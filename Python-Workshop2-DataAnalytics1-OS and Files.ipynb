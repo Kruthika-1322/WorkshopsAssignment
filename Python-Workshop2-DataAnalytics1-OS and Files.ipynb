{
 "cells": [
  {
   "cell_type": "code",
   "execution_count": 1,
   "id": "5f9b8e82",
   "metadata": {},
   "outputs": [],
   "source": [
    "import os"
   ]
  },
  {
   "cell_type": "code",
   "execution_count": 2,
   "id": "9a0e8b0a",
   "metadata": {},
   "outputs": [
    {
     "data": {
      "text/plain": [
       "'C:\\\\Users\\\\kruth\\\\Desktop\\\\PythonProjects'"
      ]
     },
     "execution_count": 2,
     "metadata": {},
     "output_type": "execute_result"
    }
   ],
   "source": [
    "os.getcwd()"
   ]
  },
  {
   "cell_type": "code",
   "execution_count": 3,
   "id": "4f02a4f8",
   "metadata": {},
   "outputs": [
    {
     "data": {
      "text/plain": [
       "['.ipynb_checkpoints',\n",
       " 'Assignment-1 College.ipynb',\n",
       " 'Book1.xlsx',\n",
       " 'Book2.xlsx',\n",
       " 'Book2a.csv',\n",
       " 'carprices.xlsx',\n",
       " 'climate.txt',\n",
       " 'climate_results.txt',\n",
       " 'DataAnalytics-PythonBasics-1.ipynb',\n",
       " 'DataAnalytics-PythonBasics-BranchingAndLoops-2.ipynb',\n",
       " 'Decision Tree.ipynb',\n",
       " 'Hand written Numbers-Using Tesnsor Flow.ipynb',\n",
       " 'HashTable.ipynb',\n",
       " 'Homeprices.xlsx',\n",
       " 'IDCard.ipynb',\n",
       " 'insurance_data.xlsx',\n",
       " 'LinearRegression.ipynb',\n",
       " 'LinearRegression1.ipynb',\n",
       " 'LinearRegressionWithMultipleVariables.ipynb',\n",
       " 'LinkedList-DS2.ipynb',\n",
       " 'ML10K-foldCross.ipynb',\n",
       " 'ML4HandlingDummyVariables.ipynb',\n",
       " 'ML5TrainingTestingdata.ipynb',\n",
       " 'ML6LogisticRegression(BinaryClassification).ipynb',\n",
       " 'ML7-LogisticRegression(Multiclass Classification).ipynb',\n",
       " 'ML8_Support Vector.ipynb',\n",
       " 'ML9-Random_Forest.ipynb',\n",
       " 'model_pickle',\n",
       " 'Newton-CodingContestQuestions.ipynb',\n",
       " 'Prediction.xlsx',\n",
       " 'Python-Workshop2-DataAnalytics1-NumPy.ipynb',\n",
       " 'Python-Workshop2-DataAnalytics1-OS and Files.ipynb',\n",
       " 'PythonDS-Array[List].ipynb',\n",
       " 'reg_pickle',\n",
       " 'salaries.xlsx',\n",
       " 'Untitled.ipynb',\n",
       " 'untitled.txt',\n",
       " 'Untitled1.ipynb',\n",
       " 'Untitled2.ipynb',\n",
       " 'Untitled3.ipynb',\n",
       " 'Untitled4.ipynb',\n",
       " 'Untitled5.ipynb',\n",
       " 'Untitled6.ipynb',\n",
       " 'Untitled7.ipynb',\n",
       " 'Untitled8.ipynb',\n",
       " 'Untitled9.ipynb']"
      ]
     },
     "execution_count": 3,
     "metadata": {},
     "output_type": "execute_result"
    }
   ],
   "source": [
    "os.listdir()"
   ]
  },
  {
   "cell_type": "code",
   "execution_count": 4,
   "id": "1682cd3a",
   "metadata": {},
   "outputs": [
    {
     "data": {
      "text/plain": [
       "['.ipynb_checkpoints',\n",
       " 'Assignment-1 College.ipynb',\n",
       " 'Book1.xlsx',\n",
       " 'Book2.xlsx',\n",
       " 'Book2a.csv',\n",
       " 'carprices.xlsx',\n",
       " 'climate.txt',\n",
       " 'climate_results.txt',\n",
       " 'DataAnalytics-PythonBasics-1.ipynb',\n",
       " 'DataAnalytics-PythonBasics-BranchingAndLoops-2.ipynb',\n",
       " 'Decision Tree.ipynb',\n",
       " 'Hand written Numbers-Using Tesnsor Flow.ipynb',\n",
       " 'HashTable.ipynb',\n",
       " 'Homeprices.xlsx',\n",
       " 'IDCard.ipynb',\n",
       " 'insurance_data.xlsx',\n",
       " 'LinearRegression.ipynb',\n",
       " 'LinearRegression1.ipynb',\n",
       " 'LinearRegressionWithMultipleVariables.ipynb',\n",
       " 'LinkedList-DS2.ipynb',\n",
       " 'ML10K-foldCross.ipynb',\n",
       " 'ML4HandlingDummyVariables.ipynb',\n",
       " 'ML5TrainingTestingdata.ipynb',\n",
       " 'ML6LogisticRegression(BinaryClassification).ipynb',\n",
       " 'ML7-LogisticRegression(Multiclass Classification).ipynb',\n",
       " 'ML8_Support Vector.ipynb',\n",
       " 'ML9-Random_Forest.ipynb',\n",
       " 'model_pickle',\n",
       " 'Newton-CodingContestQuestions.ipynb',\n",
       " 'Prediction.xlsx',\n",
       " 'Python-Workshop2-DataAnalytics1-NumPy.ipynb',\n",
       " 'Python-Workshop2-DataAnalytics1-OS and Files.ipynb',\n",
       " 'PythonDS-Array[List].ipynb',\n",
       " 'reg_pickle',\n",
       " 'salaries.xlsx',\n",
       " 'Untitled.ipynb',\n",
       " 'untitled.txt',\n",
       " 'Untitled1.ipynb',\n",
       " 'Untitled2.ipynb',\n",
       " 'Untitled3.ipynb',\n",
       " 'Untitled4.ipynb',\n",
       " 'Untitled5.ipynb',\n",
       " 'Untitled6.ipynb',\n",
       " 'Untitled7.ipynb',\n",
       " 'Untitled8.ipynb',\n",
       " 'Untitled9.ipynb']"
      ]
     },
     "execution_count": 4,
     "metadata": {},
     "output_type": "execute_result"
    }
   ],
   "source": [
    "os.listdir(os.getcwd())"
   ]
  },
  {
   "cell_type": "code",
   "execution_count": 5,
   "id": "f3e8f3af",
   "metadata": {},
   "outputs": [],
   "source": [
    "os.makedirs('./data',exist_ok=True)"
   ]
  },
  {
   "cell_type": "code",
   "execution_count": 6,
   "id": "3b7f85f2",
   "metadata": {},
   "outputs": [
    {
     "data": {
      "text/plain": [
       "True"
      ]
     },
     "execution_count": 6,
     "metadata": {},
     "output_type": "execute_result"
    }
   ],
   "source": [
    "'data' in os.listdir()"
   ]
  },
  {
   "cell_type": "code",
   "execution_count": 7,
   "id": "391c5b74",
   "metadata": {},
   "outputs": [
    {
     "data": {
      "text/plain": [
       "[]"
      ]
     },
     "execution_count": 7,
     "metadata": {},
     "output_type": "execute_result"
    }
   ],
   "source": [
    "os.listdir('./data')"
   ]
  },
  {
   "cell_type": "code",
   "execution_count": 16,
   "id": "1e2d8ad5",
   "metadata": {},
   "outputs": [
    {
     "data": {
      "text/plain": [
       "('./data/loans1.txt', <http.client.HTTPMessage at 0x2362130bf70>)"
      ]
     },
     "execution_count": 16,
     "metadata": {},
     "output_type": "execute_result"
    }
   ],
   "source": [
    "from urllib.request import urlretrieve\n",
    "url='https://raw.githubusercontent.com/chidanandamurthy/dataAnalysis/main/loans1.txt'\n",
    "urlretrieve(url,'./data/loans1.txt')"
   ]
  },
  {
   "cell_type": "code",
   "execution_count": 56,
   "id": "a26adf3b",
   "metadata": {},
   "outputs": [
    {
     "data": {
      "text/plain": [
       "('./data/loans2.txt', <http.client.HTTPMessage at 0x23622d5dca0>)"
      ]
     },
     "execution_count": 56,
     "metadata": {},
     "output_type": "execute_result"
    }
   ],
   "source": [
    "url='https://raw.githubusercontent.com/chidanandamurthy/dataAnalysis/main/loans2.txt'\n",
    "urlretrieve(url,'./data/loans2.txt')"
   ]
  },
  {
   "cell_type": "markdown",
   "id": "d7255bd1",
   "metadata": {},
   "source": [
    "# Reading and writing file\n"
   ]
  },
  {
   "cell_type": "code",
   "execution_count": 17,
   "id": "8e1d5003",
   "metadata": {},
   "outputs": [],
   "source": [
    "file1=open('./data/loans1.txt',mode='r')"
   ]
  },
  {
   "cell_type": "code",
   "execution_count": 18,
   "id": "be41a684",
   "metadata": {},
   "outputs": [
    {
     "data": {
      "text/plain": [
       "'amount,duration,rate,down_payment\\n100000,36,0.08,20000\\n200000,12,0.1,\\n628400,120,0.12,100000\\n4637400,240,0.06,\\n42900,90,0.07,8900\\n916000,16,0.13,\\n45230,48,0.08,4300\\n991360,99,0.08,\\n423000,27,0.09,47200'"
      ]
     },
     "execution_count": 18,
     "metadata": {},
     "output_type": "execute_result"
    }
   ],
   "source": [
    "file_contents=file1.read()\n",
    "file_contents"
   ]
  },
  {
   "cell_type": "code",
   "execution_count": 19,
   "id": "257fc092",
   "metadata": {},
   "outputs": [
    {
     "name": "stdout",
     "output_type": "stream",
     "text": [
      "amount,duration,rate,down_payment\n",
      "100000,36,0.08,20000\n",
      "200000,12,0.1,\n",
      "628400,120,0.12,100000\n",
      "4637400,240,0.06,\n",
      "42900,90,0.07,8900\n",
      "916000,16,0.13,\n",
      "45230,48,0.08,4300\n",
      "991360,99,0.08,\n",
      "423000,27,0.09,47200\n"
     ]
    }
   ],
   "source": [
    "print(file_contents)"
   ]
  },
  {
   "cell_type": "code",
   "execution_count": 20,
   "id": "42629aa1",
   "metadata": {},
   "outputs": [],
   "source": [
    "file1.close()"
   ]
  },
  {
   "cell_type": "code",
   "execution_count": 23,
   "id": "d8c15379",
   "metadata": {},
   "outputs": [
    {
     "name": "stdout",
     "output_type": "stream",
     "text": [
      "amount,duration,rate,down_payment\n",
      "100000,36,0.08,20000\n",
      "200000,12,0.1,\n",
      "628400,120,0.12,100000\n",
      "4637400,240,0.06,\n",
      "42900,90,0.07,8900\n",
      "916000,16,0.13,\n",
      "45230,48,0.08,4300\n",
      "991360,99,0.08,\n",
      "423000,27,0.09,47200\n"
     ]
    }
   ],
   "source": [
    "with open('./data/loans1.txt') as file1:\n",
    "    file1_contents=file1.read()\n",
    "    print(file1_contents)\n",
    "\n"
   ]
  },
  {
   "cell_type": "code",
   "execution_count": 24,
   "id": "f89268bd",
   "metadata": {},
   "outputs": [
    {
     "ename": "ValueError",
     "evalue": "I/O operation on closed file.",
     "output_type": "error",
     "traceback": [
      "\u001b[1;31m---------------------------------------------------------------------------\u001b[0m",
      "\u001b[1;31mValueError\u001b[0m                                Traceback (most recent call last)",
      "Input \u001b[1;32mIn [24]\u001b[0m, in \u001b[0;36m<cell line: 1>\u001b[1;34m()\u001b[0m\n\u001b[1;32m----> 1\u001b[0m \u001b[43mfile1\u001b[49m\u001b[38;5;241;43m.\u001b[39;49m\u001b[43mread\u001b[49m\u001b[43m(\u001b[49m\u001b[43m)\u001b[49m\n",
      "\u001b[1;31mValueError\u001b[0m: I/O operation on closed file."
     ]
    }
   ],
   "source": [
    "file1.read()"
   ]
  },
  {
   "cell_type": "code",
   "execution_count": 31,
   "id": "6a8d006e",
   "metadata": {},
   "outputs": [
    {
     "name": "stdout",
     "output_type": "stream",
     "text": [
      "['amount,duration,rate,down_payment\\n', '100000,36,0.08,20000\\n', '200000,12,0.1,\\n', '628400,120,0.12,100000\\n', '4637400,240,0.06,\\n', '42900,90,0.07,8900\\n', '916000,16,0.13,\\n', '45230,48,0.08,4300\\n', '991360,99,0.08,\\n', '423000,27,0.09,47200']\n"
     ]
    }
   ],
   "source": [
    "with open('./data/loans1.txt') as file1:\n",
    "    file1_contents=file1.readlines()\n",
    "    print(file1_contents)\n",
    "\n"
   ]
  },
  {
   "cell_type": "code",
   "execution_count": 37,
   "id": "f4fab7a5",
   "metadata": {},
   "outputs": [
    {
     "data": {
      "text/plain": [
       "['amount', 'duration', 'rate', 'down_payment']"
      ]
     },
     "execution_count": 37,
     "metadata": {},
     "output_type": "execute_result"
    }
   ],
   "source": [
    "file1_contents[0].strip().split(',')"
   ]
  },
  {
   "cell_type": "code",
   "execution_count": 43,
   "id": "29b4c07d",
   "metadata": {},
   "outputs": [],
   "source": [
    "def parse_headers(header_line):\n",
    "    ''' \n",
    "    This function parses the given string strips any spaces or \\n \n",
    "    and splits based on \",\n",
    "    return:a list of tokens\"'''\n",
    "    return header_line.strip().split(',')"
   ]
  },
  {
   "cell_type": "code",
   "execution_count": 42,
   "id": "81a0190f",
   "metadata": {},
   "outputs": [
    {
     "name": "stdout",
     "output_type": "stream",
     "text": [
      "['amount', 'duration', 'rate', 'down_payment']\n",
      "['100000', '36', '0.08', '20000']\n",
      "['200000', '12', '0.1', '']\n",
      "['628400', '120', '0.12', '100000']\n",
      "['4637400', '240', '0.06', '']\n",
      "['42900', '90', '0.07', '8900']\n",
      "['916000', '16', '0.13', '']\n",
      "['45230', '48', '0.08', '4300']\n",
      "['991360', '99', '0.08', '']\n",
      "['423000', '27', '0.09', '47200']\n"
     ]
    }
   ],
   "source": [
    "for i in file1_contents:\n",
    "    print(parse_headers(i))\n",
    "    "
   ]
  },
  {
   "cell_type": "code",
   "execution_count": 54,
   "id": "04926692",
   "metadata": {},
   "outputs": [],
   "source": [
    "def parse_values(data_line):\n",
    "    '''\n",
    "    This function converts the given text to\n",
    "    tokens and each token is converted to float\n",
    "    value.\n",
    "    return: list of float values'''\n",
    "    values=[]\n",
    "    for item in data_line.strip().split(','):\n",
    "        if item=='':\n",
    "            values.append(0.0)\n",
    "        else:\n",
    "            values.append(float(item))\n",
    "    return values\n",
    "        "
   ]
  },
  {
   "cell_type": "code",
   "execution_count": 59,
   "id": "cf0dc617",
   "metadata": {},
   "outputs": [],
   "source": [
    "values=[]\n",
    "for i in range(1,len(file1_contents)):\n",
    "        values.append(parse_values(file1_contents[i]))\n"
   ]
  },
  {
   "cell_type": "code",
   "execution_count": 58,
   "id": "0d590a60",
   "metadata": {},
   "outputs": [],
   "source": [
    "def create_item_dic(values,headers):\n",
    "    '''\n",
    "    This function creates a dictionary of values with keys\n",
    "    return: dictionary'''\n",
    "    result={}\n",
    "    for value,header in zip(values,headers):\n",
    "        result[header]=value\n",
    "    return result"
   ]
  },
  {
   "cell_type": "code",
   "execution_count": 65,
   "id": "537e77d0",
   "metadata": {},
   "outputs": [
    {
     "name": "stdout",
     "output_type": "stream",
     "text": [
      "{'amount': 100000.0, 'duration': 36.0, 'rate': 0.08, 'down_payment': 20000.0}\n",
      "{'amount': 200000.0, 'duration': 12.0, 'rate': 0.1, 'down_payment': 0.0}\n",
      "{'amount': 628400.0, 'duration': 120.0, 'rate': 0.12, 'down_payment': 100000.0}\n",
      "{'amount': 4637400.0, 'duration': 240.0, 'rate': 0.06, 'down_payment': 0.0}\n",
      "{'amount': 42900.0, 'duration': 90.0, 'rate': 0.07, 'down_payment': 8900.0}\n",
      "{'amount': 916000.0, 'duration': 16.0, 'rate': 0.13, 'down_payment': 0.0}\n",
      "{'amount': 45230.0, 'duration': 48.0, 'rate': 0.08, 'down_payment': 4300.0}\n",
      "{'amount': 991360.0, 'duration': 99.0, 'rate': 0.08, 'down_payment': 0.0}\n",
      "{'amount': 423000.0, 'duration': 27.0, 'rate': 0.09, 'down_payment': 47200.0}\n"
     ]
    }
   ],
   "source": [
    "resuls={}\n",
    "for value in values:\n",
    "    print(create_item_dic(value,parse_headers(file1_contents[0])))\n"
   ]
  },
  {
   "cell_type": "code",
   "execution_count": 66,
   "id": "9ce3e33a",
   "metadata": {},
   "outputs": [],
   "source": [
    "import numpy as np"
   ]
  },
  {
   "cell_type": "code",
   "execution_count": 70,
   "id": "a2488787",
   "metadata": {},
   "outputs": [],
   "source": [
    "def read_csv(path):\n",
    "    '''This function opens a file and reads the contents of \n",
    "    the file by lines and format it and returns the dictionary'''\n",
    "    result=[]\n",
    "    #open the file in read mode\n",
    "    with open(path,'r') as f:\n",
    "        #get a list of lines\n",
    "        lines=f.readlines()\n",
    "        #parse the header\n",
    "        headers=parse_headers(file1_contents[0])\n",
    "        #Loop over the reamining lines\n",
    "        for data_line in lines[1:]:\n",
    "            #parse the values\n",
    "            values=parse_values(data_line)\n",
    "            #create dictionary using values and headers\n",
    "            item_dict=create_item_dic(values,headers)\n",
    "            #add the dictionary to the result\n",
    "            result.append(item_dict)\n",
    "        return result"
   ]
  },
  {
   "cell_type": "code",
   "execution_count": 71,
   "id": "0dbc8f56",
   "metadata": {},
   "outputs": [
    {
     "data": {
      "text/plain": [
       "[{'amount': 100000.0, 'duration': 36.0, 'rate': 0.08, 'down_payment': 20000.0},\n",
       " {'amount': 200000.0, 'duration': 12.0, 'rate': 0.1, 'down_payment': 0.0},\n",
       " {'amount': 628400.0,\n",
       "  'duration': 120.0,\n",
       "  'rate': 0.12,\n",
       "  'down_payment': 100000.0},\n",
       " {'amount': 4637400.0, 'duration': 240.0, 'rate': 0.06, 'down_payment': 0.0},\n",
       " {'amount': 42900.0, 'duration': 90.0, 'rate': 0.07, 'down_payment': 8900.0},\n",
       " {'amount': 916000.0, 'duration': 16.0, 'rate': 0.13, 'down_payment': 0.0},\n",
       " {'amount': 45230.0, 'duration': 48.0, 'rate': 0.08, 'down_payment': 4300.0},\n",
       " {'amount': 991360.0, 'duration': 99.0, 'rate': 0.08, 'down_payment': 0.0},\n",
       " {'amount': 423000.0, 'duration': 27.0, 'rate': 0.09, 'down_payment': 47200.0}]"
      ]
     },
     "execution_count": 71,
     "metadata": {},
     "output_type": "execute_result"
    }
   ],
   "source": [
    "read_csv('./data/loans1.txt')"
   ]
  },
  {
   "cell_type": "code",
   "execution_count": 85,
   "id": "f26b70ac",
   "metadata": {},
   "outputs": [],
   "source": [
    "import math\n",
    "def loan_emi(amount,duration,rate,down_payment=0):\n",
    "    '''Calculate the equal monthly installment(emi) for a loan.\n",
    "    Arguments:\n",
    "    '''\n",
    "    loan_amount=amount-down_payment\n",
    "    try:\n",
    "        \n",
    "         emi=amount*rate*((1+rate)**duration)/(((1+rate)**duration)-1)\n",
    "    except ZeoDivisionError:\n",
    "        emi=loan_amount/duration\n",
    "    emi=math.ceil(emi)\n",
    "    return emi\n"
   ]
  },
  {
   "cell_type": "code",
   "execution_count": 86,
   "id": "7d1b7823",
   "metadata": {},
   "outputs": [],
   "source": [
    "loans1=read_csv('./data/loans1.txt')"
   ]
  },
  {
   "cell_type": "code",
   "execution_count": 87,
   "id": "37f0723f",
   "metadata": {},
   "outputs": [],
   "source": [
    "for loan in loans1:\n",
    "    loan['emi']=loan_emi(loan['amount'],\n",
    "                        loan['duration'],\n",
    "                        loan['rate']/12,\n",
    "                        loan['down_payment'])"
   ]
  },
  {
   "cell_type": "code",
   "execution_count": 88,
   "id": "05269de9",
   "metadata": {},
   "outputs": [
    {
     "data": {
      "text/plain": [
       "[{'amount': 100000.0,\n",
       "  'duration': 36.0,\n",
       "  'rate': 0.08,\n",
       "  'down_payment': 20000.0,\n",
       "  'emi': 3134},\n",
       " {'amount': 200000.0,\n",
       "  'duration': 12.0,\n",
       "  'rate': 0.1,\n",
       "  'down_payment': 0.0,\n",
       "  'emi': 17584},\n",
       " {'amount': 628400.0,\n",
       "  'duration': 120.0,\n",
       "  'rate': 0.12,\n",
       "  'down_payment': 100000.0,\n",
       "  'emi': 9016},\n",
       " {'amount': 4637400.0,\n",
       "  'duration': 240.0,\n",
       "  'rate': 0.06,\n",
       "  'down_payment': 0.0,\n",
       "  'emi': 33224},\n",
       " {'amount': 42900.0,\n",
       "  'duration': 90.0,\n",
       "  'rate': 0.07,\n",
       "  'down_payment': 8900.0,\n",
       "  'emi': 615},\n",
       " {'amount': 916000.0,\n",
       "  'duration': 16.0,\n",
       "  'rate': 0.13,\n",
       "  'down_payment': 0.0,\n",
       "  'emi': 62664},\n",
       " {'amount': 45230.0,\n",
       "  'duration': 48.0,\n",
       "  'rate': 0.08,\n",
       "  'down_payment': 4300.0,\n",
       "  'emi': 1105},\n",
       " {'amount': 991360.0,\n",
       "  'duration': 99.0,\n",
       "  'rate': 0.08,\n",
       "  'down_payment': 0.0,\n",
       "  'emi': 13712},\n",
       " {'amount': 423000.0,\n",
       "  'duration': 27.0,\n",
       "  'rate': 0.09,\n",
       "  'down_payment': 47200.0,\n",
       "  'emi': 17365}]"
      ]
     },
     "execution_count": 88,
     "metadata": {},
     "output_type": "execute_result"
    }
   ],
   "source": [
    "loans1"
   ]
  },
  {
   "cell_type": "code",
   "execution_count": 91,
   "id": "c04c1de9",
   "metadata": {},
   "outputs": [],
   "source": [
    "def compute_emis(loans):\n",
    "    for loan in loans:\n",
    "        loan['emi']=loan_emi(loan['amount'],\n",
    "                            loan['duration'],\n",
    "                            loan['rate']/12,\n",
    "                            loan['down_payment'])"
   ]
  },
  {
   "cell_type": "code",
   "execution_count": 94,
   "id": "8bc546b4",
   "metadata": {},
   "outputs": [],
   "source": [
    "with open('./data/emi1.txt','w') as f:\n",
    "    for loan in loans1:\n",
    "        f.write(f\"{loan['amount']},{loan['duration']},{loan['rate']},{loan['down_payment']},{loan['emi']}\\n\")"
   ]
  },
  {
   "cell_type": "code",
   "execution_count": 95,
   "id": "5d8e29f3",
   "metadata": {},
   "outputs": [
    {
     "data": {
      "text/plain": [
       "['emi1.txt', 'loans1.txt', 'loans2.txt']"
      ]
     },
     "execution_count": 95,
     "metadata": {},
     "output_type": "execute_result"
    }
   ],
   "source": [
    "os.listdir('./data')"
   ]
  },
  {
   "cell_type": "code",
   "execution_count": 104,
   "id": "49abe98b",
   "metadata": {},
   "outputs": [],
   "source": [
    "def write_csv(items,path):\n",
    "    with open(path,'w') as f:\n",
    "        if(len(items))==0:\n",
    "            return\n",
    "        \n",
    "    headers=list(items[0].keys())\n",
    "    f.write(','.join(headers)+'\\n')\n",
    "    \n",
    "    for item in items:\n",
    "        values=[]\n",
    "        for header in headers:\n",
    "            values.append(str(item.get(header,\"\")))\n",
    "        f.write(','.join(values)+\"\\n\")"
   ]
  },
  {
   "cell_type": "code",
   "execution_count": 113,
   "id": "cbc1004c",
   "metadata": {},
   "outputs": [],
   "source": [
    "loans1=read_csv('./data/loans1.txt')"
   ]
  },
  {
   "cell_type": "code",
   "execution_count": 114,
   "id": "6984f730",
   "metadata": {},
   "outputs": [],
   "source": [
    "compute_emis(loans1)"
   ]
  },
  {
   "cell_type": "code",
   "execution_count": 115,
   "id": "b5b76ee3",
   "metadata": {},
   "outputs": [],
   "source": [
    "write_csv(loans1,'./data/emi2.txt')"
   ]
  },
  {
   "cell_type": "code",
   "execution_count": 116,
   "id": "09033c32",
   "metadata": {},
   "outputs": [
    {
     "name": "stdout",
     "output_type": "stream",
     "text": [
      "\n"
     ]
    }
   ],
   "source": [
    "with open('./data/emi2.txt','r') as f:\n",
    "    print(f.read())"
   ]
  },
  {
   "cell_type": "code",
   "execution_count": null,
   "id": "fe75e21a",
   "metadata": {},
   "outputs": [],
   "source": []
  }
 ],
 "metadata": {
  "kernelspec": {
   "display_name": "Python 3 (ipykernel)",
   "language": "python",
   "name": "python3"
  },
  "language_info": {
   "codemirror_mode": {
    "name": "ipython",
    "version": 3
   },
   "file_extension": ".py",
   "mimetype": "text/x-python",
   "name": "python",
   "nbconvert_exporter": "python",
   "pygments_lexer": "ipython3",
   "version": "3.9.12"
  }
 },
 "nbformat": 4,
 "nbformat_minor": 5
}
