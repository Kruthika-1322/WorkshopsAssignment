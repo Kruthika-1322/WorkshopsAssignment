{
 "cells": [
  {
   "cell_type": "code",
   "execution_count": 126,
   "id": "bdcef0fc",
   "metadata": {},
   "outputs": [
    {
     "name": "stdout",
     "output_type": "stream",
     "text": [
      "Hello World\n"
     ]
    }
   ],
   "source": [
    "print(\"Hello World\")"
   ]
  },
  {
   "cell_type": "code",
   "execution_count": 276,
   "id": "93edc0f2",
   "metadata": {},
   "outputs": [
    {
     "data": {
      "text/plain": [
       "(12, 2.5, 18, 9, 2)"
      ]
     },
     "execution_count": 276,
     "metadata": {},
     "output_type": "execute_result"
    }
   ],
   "source": [
    "a=5+7\n",
    "b=5/2\n",
    "c=3*6\n",
    "d=3**2\n",
    "e=5//2\n",
    "a,b,c,d,e"
   ]
  },
  {
   "cell_type": "code",
   "execution_count": 128,
   "id": "a3983206",
   "metadata": {},
   "outputs": [
    {
     "data": {
      "text/plain": [
       "125.0"
      ]
     },
     "execution_count": 128,
     "metadata": {},
     "output_type": "execute_result"
    }
   ],
   "source": [
    "500*(0.2*1.25)"
   ]
  },
  {
   "cell_type": "markdown",
   "id": "698028ac",
   "metadata": {},
   "source": [
    "#### Questions"
   ]
  },
  {
   "cell_type": "markdown",
   "id": "af25505b",
   "metadata": {},
   "source": [
    "1.A grocery shop make a profit of 20% by selling an ice for $1.2. What will be the total profit that he will gain by selling 500 bags?"
   ]
  },
  {
   "cell_type": "code",
   "execution_count": 129,
   "id": "a6cd9086",
   "metadata": {},
   "outputs": [
    {
     "data": {
      "text/plain": [
       "125.0"
      ]
     },
     "execution_count": 129,
     "metadata": {},
     "output_type": "execute_result"
    }
   ],
   "source": [
    "cost_per_bag=1.25#In dollars\n",
    "profit_gained=0.2\n",
    "no_of_bags=500\n",
    "total_profit=no_of_bags*(profit_gained*cost_per_bag)\n",
    "total_profit"
   ]
  },
  {
   "cell_type": "code",
   "execution_count": 130,
   "id": "9435a989",
   "metadata": {},
   "outputs": [
    {
     "data": {
      "text/plain": [
       "0.25"
      ]
     },
     "execution_count": 130,
     "metadata": {},
     "output_type": "execute_result"
    }
   ],
   "source": [
    "profit_per_bag=cost_per_bag*profit_gained\n",
    "profit_per_bag"
   ]
  },
  {
   "cell_type": "code",
   "execution_count": 131,
   "id": "424a6420",
   "metadata": {},
   "outputs": [
    {
     "data": {
      "text/plain": [
       "int"
      ]
     },
     "execution_count": 131,
     "metadata": {},
     "output_type": "execute_result"
    }
   ],
   "source": [
    "x=4\n",
    "type(x)"
   ]
  },
  {
   "cell_type": "code",
   "execution_count": 132,
   "id": "dfe35edd",
   "metadata": {},
   "outputs": [
    {
     "name": "stdout",
     "output_type": "stream",
     "text": [
      "The grocery store makes a total profit of $ 125.0\n"
     ]
    }
   ],
   "source": [
    "#Store input data in variables\n",
    "cost_per_bag=1.25#In dollars\n",
    "profit_gained=0.2\n",
    "no_of_bags=500\n",
    "#Perfrom the required calculations\n",
    "\"\"\"simply\n",
    "writing \n",
    "multiple line comments:)\"\"\"\n",
    "total_profit=no_of_bags*(profit_gained*cost_per_bag)\n",
    "total_profit\n",
    "profit_per_bag=cost_per_bag*profit_gained\n",
    "profit_per_bag\n",
    "print(\"The grocery store makes a total profit of $\",total_profit)"
   ]
  },
  {
   "cell_type": "markdown",
   "id": "6fd02139",
   "metadata": {},
   "source": [
    "2.A travel company wants to fly a plane to the Bahamas.Flying the plane costs $5000 dollar.So far 29 people have signed up for the trip.If the company charges 200 dollars per ticket, what is the profit made by the company? Create variables for each numeric quantity and use the appropriate arithmetic operations"
   ]
  },
  {
   "cell_type": "code",
   "execution_count": 133,
   "id": "6af6dc9b",
   "metadata": {},
   "outputs": [
    {
     "name": "stdout",
     "output_type": "stream",
     "text": [
      "The profit made by the travel company is $ 800\n"
     ]
    }
   ],
   "source": [
    "#Store input data in variables\n",
    "cost_to_run_flight=5000 #in dollars\n",
    "no_of_people=29\n",
    "charge_per_ticket=200\n",
    "#Perfrom the required calculations\n",
    "total_fare_collected=no_of_people*charge_per_ticket\n",
    "profit=total_fare_collected-cost_to_run_flight\n",
    "#Display the result\n",
    "print(\"The profit made by the travel company is $\",profit)"
   ]
  },
  {
   "cell_type": "code",
   "execution_count": 134,
   "id": "5ee723db",
   "metadata": {},
   "outputs": [],
   "source": [
    "my_favorite_number=1\n",
    "my_least_favorite_number=5\n",
    "a_neutarl_number=3"
   ]
  },
  {
   "cell_type": "code",
   "execution_count": 135,
   "id": "549d833d",
   "metadata": {},
   "outputs": [
    {
     "data": {
      "text/plain": [
       "True"
      ]
     },
     "execution_count": 135,
     "metadata": {},
     "output_type": "execute_result"
    }
   ],
   "source": [
    "# Equality check-True\n",
    "my_favorite_number==1"
   ]
  },
  {
   "cell_type": "code",
   "execution_count": 136,
   "id": "ea6021da",
   "metadata": {},
   "outputs": [
    {
     "data": {
      "text/plain": [
       "False"
      ]
     },
     "execution_count": 136,
     "metadata": {},
     "output_type": "execute_result"
    }
   ],
   "source": [
    "# Equality check-Fale\n",
    "my_least_favorite_number==1"
   ]
  },
  {
   "cell_type": "code",
   "execution_count": 137,
   "id": "1ef1ea16",
   "metadata": {},
   "outputs": [
    {
     "data": {
      "text/plain": [
       "False"
      ]
     },
     "execution_count": 137,
     "metadata": {},
     "output_type": "execute_result"
    }
   ],
   "source": [
    "#Not Equal check-False\n",
    "a_neutarl_number!=3"
   ]
  },
  {
   "cell_type": "code",
   "execution_count": 138,
   "id": "bb78711a",
   "metadata": {},
   "outputs": [
    {
     "data": {
      "text/plain": [
       "True"
      ]
     },
     "execution_count": 138,
     "metadata": {},
     "output_type": "execute_result"
    }
   ],
   "source": [
    "#Greater than check-True\n",
    "my_favorite_number<10"
   ]
  },
  {
   "cell_type": "code",
   "execution_count": 139,
   "id": "8258b01f",
   "metadata": {},
   "outputs": [
    {
     "data": {
      "text/plain": [
       "False"
      ]
     },
     "execution_count": 139,
     "metadata": {},
     "output_type": "execute_result"
    }
   ],
   "source": [
    "#Greater than check-False\n",
    "my_least_favorite_number>10"
   ]
  },
  {
   "cell_type": "code",
   "execution_count": 140,
   "id": "b2b5d0df",
   "metadata": {},
   "outputs": [
    {
     "data": {
      "text/plain": [
       "True"
      ]
     },
     "execution_count": 140,
     "metadata": {},
     "output_type": "execute_result"
    }
   ],
   "source": [
    "#Less than or equal to check-true\n",
    "3+6<=9"
   ]
  },
  {
   "cell_type": "code",
   "execution_count": 141,
   "id": "2ad9d8bb",
   "metadata": {},
   "outputs": [
    {
     "name": "stdout",
     "output_type": "stream",
     "text": [
      "<class 'bool'>\n"
     ]
    },
    {
     "data": {
      "text/plain": [
       "False"
      ]
     },
     "execution_count": 141,
     "metadata": {},
     "output_type": "execute_result"
    }
   ],
   "source": [
    "#Less than or equal to check-False\n",
    "isTrue=my_favorite_number+a_neutarl_number<=3\n",
    "print(type(isTrue))\n",
    "isTrue"
   ]
  },
  {
   "cell_type": "code",
   "execution_count": 142,
   "id": "9eb3b266",
   "metadata": {},
   "outputs": [
    {
     "data": {
      "text/plain": [
       "True"
      ]
     },
     "execution_count": 142,
     "metadata": {},
     "output_type": "execute_result"
    }
   ],
   "source": [
    "#And operator\n",
    "my_favorite_number>0 and my_favorite_number<=3"
   ]
  },
  {
   "cell_type": "code",
   "execution_count": 143,
   "id": "258875ae",
   "metadata": {},
   "outputs": [
    {
     "data": {
      "text/plain": [
       "False"
      ]
     },
     "execution_count": 143,
     "metadata": {},
     "output_type": "execute_result"
    }
   ],
   "source": [
    "my_favorite_number<0 and my_least_favorite_number>4"
   ]
  },
  {
   "cell_type": "code",
   "execution_count": 144,
   "id": "83249b4e",
   "metadata": {},
   "outputs": [
    {
     "data": {
      "text/plain": [
       "False"
      ]
     },
     "execution_count": 144,
     "metadata": {},
     "output_type": "execute_result"
    }
   ],
   "source": [
    "a_neutarl_number>10 and my_least_favorite_number>10"
   ]
  },
  {
   "cell_type": "code",
   "execution_count": 145,
   "id": "ed232b05",
   "metadata": {},
   "outputs": [
    {
     "data": {
      "text/plain": [
       "True"
      ]
     },
     "execution_count": 145,
     "metadata": {},
     "output_type": "execute_result"
    }
   ],
   "source": [
    "#OR operations \n",
    "my_favorite_number>0 or my_favorite_number<=3"
   ]
  },
  {
   "cell_type": "code",
   "execution_count": 146,
   "id": "6b7cd68f",
   "metadata": {},
   "outputs": [
    {
     "data": {
      "text/plain": [
       "True"
      ]
     },
     "execution_count": 146,
     "metadata": {},
     "output_type": "execute_result"
    }
   ],
   "source": [
    "my_favorite_number>0 or my_least_favorite_number>10"
   ]
  },
  {
   "cell_type": "code",
   "execution_count": 147,
   "id": "edba8129",
   "metadata": {},
   "outputs": [
    {
     "data": {
      "text/plain": [
       "False"
      ]
     },
     "execution_count": 147,
     "metadata": {},
     "output_type": "execute_result"
    }
   ],
   "source": [
    "a_neutarl_number>10 or my_least_favorite_number>10"
   ]
  },
  {
   "cell_type": "code",
   "execution_count": 148,
   "id": "1b6986e2",
   "metadata": {},
   "outputs": [
    {
     "data": {
      "text/plain": [
       "NoneType"
      ]
     },
     "execution_count": 148,
     "metadata": {},
     "output_type": "execute_result"
    }
   ],
   "source": [
    "x=None\n",
    "type(x)"
   ]
  },
  {
   "cell_type": "code",
   "execution_count": 149,
   "id": "1fe86b5e",
   "metadata": {},
   "outputs": [],
   "source": [
    "counter=10"
   ]
  },
  {
   "cell_type": "code",
   "execution_count": 150,
   "id": "521ec096",
   "metadata": {},
   "outputs": [
    {
     "data": {
      "text/plain": [
       "14"
      ]
     },
     "execution_count": 150,
     "metadata": {},
     "output_type": "execute_result"
    }
   ],
   "source": [
    "#Increments in python\n",
    "counter+=4\n",
    "counter"
   ]
  },
  {
   "cell_type": "code",
   "execution_count": 151,
   "id": "de62506a",
   "metadata": {},
   "outputs": [
    {
     "data": {
      "text/plain": [
       "15"
      ]
     },
     "execution_count": 151,
     "metadata": {},
     "output_type": "execute_result"
    }
   ],
   "source": [
    "counter+=1\n",
    "counter"
   ]
  },
  {
   "cell_type": "code",
   "execution_count": 152,
   "id": "180a0d0c",
   "metadata": {},
   "outputs": [
    {
     "name": "stdout",
     "output_type": "stream",
     "text": [
      "The_3_musketeers is not empty\n"
     ]
    }
   ],
   "source": [
    "The_3_musketeers=[\"Athos\",\"Porthos\",\"Aramis\"]\n",
    "type(The_3_musketeers)\n",
    "bool(The_3_musketeers)\n",
    "if bool(The_3_musketeers):\n",
    "    print(\"The_3_musketeers is not empty\")\n",
    "else:\n",
    "    print(\"The_3_musketeers is empty\")"
   ]
  },
  {
   "cell_type": "code",
   "execution_count": 153,
   "id": "bf0e2494",
   "metadata": {},
   "outputs": [
    {
     "data": {
      "text/plain": [
       "['Kruthika', 23, 24.6, True]"
      ]
     },
     "execution_count": 153,
     "metadata": {},
     "output_type": "execute_result"
    }
   ],
   "source": [
    "Mix_datatypes=[\"Kruthika\",23,24.6,True] #The datatypes used are str,int,float,bool\n",
    "Mix_datatypes"
   ]
  },
  {
   "cell_type": "code",
   "execution_count": 154,
   "id": "a3c1d6c0",
   "metadata": {},
   "outputs": [
    {
     "data": {
      "text/plain": [
       "list"
      ]
     },
     "execution_count": 154,
     "metadata": {},
     "output_type": "execute_result"
    }
   ],
   "source": [
    "type(Mix_datatypes)"
   ]
  },
  {
   "cell_type": "code",
   "execution_count": 155,
   "id": "2c4436ca",
   "metadata": {},
   "outputs": [
    {
     "data": {
      "text/plain": [
       "0.01"
      ]
     },
     "execution_count": 155,
     "metadata": {},
     "output_type": "execute_result"
    }
   ],
   "source": [
    "#Scientific Representation of a number \n",
    "one_hundredth=1e-2\n",
    "one_hundredth"
   ]
  },
  {
   "cell_type": "code",
   "execution_count": 156,
   "id": "875e57a4",
   "metadata": {},
   "outputs": [
    {
     "data": {
      "text/plain": [
       "float"
      ]
     },
     "execution_count": 156,
     "metadata": {},
     "output_type": "execute_result"
    }
   ],
   "source": [
    "type(one_hundredth)"
   ]
  },
  {
   "cell_type": "code",
   "execution_count": 157,
   "id": "2ea846ab",
   "metadata": {},
   "outputs": [
    {
     "data": {
      "text/plain": [
       "False"
      ]
     },
     "execution_count": 157,
     "metadata": {},
     "output_type": "execute_result"
    }
   ],
   "source": [
    "#False Evalution\n",
    "bool(0)"
   ]
  },
  {
   "cell_type": "code",
   "execution_count": 158,
   "id": "8431c041",
   "metadata": {},
   "outputs": [
    {
     "data": {
      "text/plain": [
       "False"
      ]
     },
     "execution_count": 158,
     "metadata": {},
     "output_type": "execute_result"
    }
   ],
   "source": [
    "bool(0.0)"
   ]
  },
  {
   "cell_type": "code",
   "execution_count": 159,
   "id": "6aa1742b",
   "metadata": {},
   "outputs": [
    {
     "data": {
      "text/plain": [
       "False"
      ]
     },
     "execution_count": 159,
     "metadata": {},
     "output_type": "execute_result"
    }
   ],
   "source": [
    "bool(None)"
   ]
  },
  {
   "cell_type": "code",
   "execution_count": 160,
   "id": "0426278b",
   "metadata": {},
   "outputs": [
    {
     "data": {
      "text/plain": [
       "False"
      ]
     },
     "execution_count": 160,
     "metadata": {},
     "output_type": "execute_result"
    }
   ],
   "source": [
    "bool(\"\")#Only empty string evalutes to false"
   ]
  },
  {
   "cell_type": "code",
   "execution_count": 161,
   "id": "9af163be",
   "metadata": {},
   "outputs": [],
   "source": [
    "a=bool(range(0))"
   ]
  },
  {
   "cell_type": "code",
   "execution_count": 162,
   "id": "3003c961",
   "metadata": {},
   "outputs": [
    {
     "data": {
      "text/plain": [
       "False"
      ]
     },
     "execution_count": 162,
     "metadata": {},
     "output_type": "execute_result"
    }
   ],
   "source": [
    "a"
   ]
  },
  {
   "cell_type": "code",
   "execution_count": 163,
   "id": "8a0c48d8",
   "metadata": {},
   "outputs": [
    {
     "data": {
      "text/plain": [
       "True"
      ]
     },
     "execution_count": 163,
     "metadata": {},
     "output_type": "execute_result"
    }
   ],
   "source": [
    "b=10\n",
    "bool(b)"
   ]
  },
  {
   "cell_type": "markdown",
   "id": "63f496c3",
   "metadata": {},
   "source": [
    "Any other values other than empty evalutes to true "
   ]
  },
  {
   "cell_type": "code",
   "execution_count": 164,
   "id": "0069eed0",
   "metadata": {},
   "outputs": [
    {
     "data": {
      "text/plain": [
       "bool"
      ]
     },
     "execution_count": 164,
     "metadata": {},
     "output_type": "execute_result"
    }
   ],
   "source": [
    "bool"
   ]
  },
  {
   "cell_type": "code",
   "execution_count": 165,
   "id": "6413a27b",
   "metadata": {},
   "outputs": [
    {
     "name": "stdout",
     "output_type": "stream",
     "text": [
      "The_3_musketeers is not empty\n"
     ]
    }
   ],
   "source": [
    "if bool(The_3_musketeers):\n",
    "    print(\"The_3_musketeers is not empty\")\n",
    "else:\n",
    "    print(\"The_3_musketeers is empty\")"
   ]
  },
  {
   "cell_type": "code",
   "execution_count": 166,
   "id": "a3e6521b",
   "metadata": {},
   "outputs": [
    {
     "data": {
      "text/plain": [
       "'The first time I got a universal remote control,I thought to myself\"This changes everything\".'"
      ]
     },
     "execution_count": 166,
     "metadata": {},
     "output_type": "execute_result"
    }
   ],
   "source": [
    "#String with both double and single quotes\n",
    "another_pun=\"The first time I got a universal remote control,I thought to myself\\\"This changes everything\\\".\"\n",
    "another_pun"
   ]
  },
  {
   "cell_type": "code",
   "execution_count": 167,
   "id": "af9fe3ff",
   "metadata": {},
   "outputs": [
    {
     "data": {
      "text/plain": [
       "'Son:\"Dad,can you tell me what a solar eclipse is?\"\\nDad:\"No son.'"
      ]
     },
     "execution_count": 167,
     "metadata": {},
     "output_type": "execute_result"
    }
   ],
   "source": [
    "yet_another_pun='''Son:\"Dad,can you tell me what a solar eclipse is?\"\n",
    "Dad:\"No son.'''\n",
    "yet_another_pun"
   ]
  },
  {
   "cell_type": "code",
   "execution_count": 168,
   "id": "ff375d85",
   "metadata": {},
   "outputs": [
    {
     "name": "stdout",
     "output_type": "stream",
     "text": [
      "Son:\"Dad,can you tell me what a solar eclipse is?\"\n",
      "Dad:\"No son.\n"
     ]
    }
   ],
   "source": [
    "print(yet_another_pun)"
   ]
  },
  {
   "cell_type": "code",
   "execution_count": 169,
   "id": "7aea3331",
   "metadata": {},
   "outputs": [
    {
     "data": {
      "text/plain": [
       "63"
      ]
     },
     "execution_count": 169,
     "metadata": {},
     "output_type": "execute_result"
    }
   ],
   "source": [
    "len(yet_another_pun)"
   ]
  },
  {
   "cell_type": "code",
   "execution_count": 170,
   "id": "12a3272e",
   "metadata": {},
   "outputs": [
    {
     "data": {
      "text/plain": [
       "['H', 'e', 'l', 'l', 'o']"
      ]
     },
     "execution_count": 170,
     "metadata": {},
     "output_type": "execute_result"
    }
   ],
   "source": [
    "#Conversion of strings to list\n",
    "string='Hello'\n",
    "list(string)"
   ]
  },
  {
   "cell_type": "code",
   "execution_count": 171,
   "id": "d7a0066e",
   "metadata": {},
   "outputs": [
    {
     "data": {
      "text/plain": [
       "['0', '1', '2', '3', '4', '5', '6', '7', '8', '9']"
      ]
     },
     "execution_count": 171,
     "metadata": {},
     "output_type": "execute_result"
    }
   ],
   "source": [
    "numbers=\"0123456789\"\n",
    "actual_numbers=list(numbers)\n",
    "actual_numbers"
   ]
  },
  {
   "cell_type": "code",
   "execution_count": 172,
   "id": "cd373c6a",
   "metadata": {},
   "outputs": [
    {
     "data": {
      "text/plain": [
       "'kruthika'"
      ]
     },
     "execution_count": 172,
     "metadata": {},
     "output_type": "execute_result"
    }
   ],
   "source": [
    "#Lower  case to upper case and other \n",
    "name=\"KrUtHika\"\n",
    "name.lower()"
   ]
  },
  {
   "cell_type": "code",
   "execution_count": 173,
   "id": "aeaae319",
   "metadata": {},
   "outputs": [
    {
     "data": {
      "text/plain": [
       "'KRUTHIKA'"
      ]
     },
     "execution_count": 173,
     "metadata": {},
     "output_type": "execute_result"
    }
   ],
   "source": [
    "name.upper()"
   ]
  },
  {
   "cell_type": "code",
   "execution_count": 174,
   "id": "e3fd6694",
   "metadata": {},
   "outputs": [
    {
     "data": {
      "text/plain": [
       "'Kruthika'"
      ]
     },
     "execution_count": 174,
     "metadata": {},
     "output_type": "execute_result"
    }
   ],
   "source": [
    "name.capitalize()"
   ]
  },
  {
   "cell_type": "code",
   "execution_count": 175,
   "id": "60027357",
   "metadata": {},
   "outputs": [
    {
     "data": {
      "text/plain": [
       "'Hi,how are you?'"
      ]
     },
     "execution_count": 175,
     "metadata": {},
     "output_type": "execute_result"
    }
   ],
   "source": [
    "sen=\"hi,how are you?\"\n",
    "sen.capitalize()"
   ]
  },
  {
   "cell_type": "code",
   "execution_count": 176,
   "id": "9afc6582",
   "metadata": {},
   "outputs": [
    {
     "data": {
      "text/plain": [
       "'JitHika'"
      ]
     },
     "execution_count": 176,
     "metadata": {},
     "output_type": "execute_result"
    }
   ],
   "source": [
    "name2=name.replace(\"KrU\",\"Ji\")\n",
    "name2"
   ]
  },
  {
   "cell_type": "code",
   "execution_count": 177,
   "id": "021bf25a",
   "metadata": {},
   "outputs": [
    {
     "data": {
      "text/plain": [
       "['Kru', 'Ji', 'Sush', 'Greesh']"
      ]
     },
     "execution_count": 177,
     "metadata": {},
     "output_type": "execute_result"
    }
   ],
   "source": [
    "\"Kru,Ji,Sush,Greesh\".split(\",\")"
   ]
  },
  {
   "cell_type": "code",
   "execution_count": 178,
   "id": "58837d02",
   "metadata": {},
   "outputs": [
    {
     "name": "stdout",
     "output_type": "stream",
     "text": [
      "Help on class str in module builtins:\n",
      "\n",
      "class str(object)\n",
      " |  str(object='') -> str\n",
      " |  str(bytes_or_buffer[, encoding[, errors]]) -> str\n",
      " |  \n",
      " |  Create a new string object from the given object. If encoding or\n",
      " |  errors is specified, then the object must expose a data buffer\n",
      " |  that will be decoded using the given encoding and error handler.\n",
      " |  Otherwise, returns the result of object.__str__() (if defined)\n",
      " |  or repr(object).\n",
      " |  encoding defaults to sys.getdefaultencoding().\n",
      " |  errors defaults to 'strict'.\n",
      " |  \n",
      " |  Methods defined here:\n",
      " |  \n",
      " |  __add__(self, value, /)\n",
      " |      Return self+value.\n",
      " |  \n",
      " |  __contains__(self, key, /)\n",
      " |      Return key in self.\n",
      " |  \n",
      " |  __eq__(self, value, /)\n",
      " |      Return self==value.\n",
      " |  \n",
      " |  __format__(self, format_spec, /)\n",
      " |      Return a formatted version of the string as described by format_spec.\n",
      " |  \n",
      " |  __ge__(self, value, /)\n",
      " |      Return self>=value.\n",
      " |  \n",
      " |  __getattribute__(self, name, /)\n",
      " |      Return getattr(self, name).\n",
      " |  \n",
      " |  __getitem__(self, key, /)\n",
      " |      Return self[key].\n",
      " |  \n",
      " |  __getnewargs__(...)\n",
      " |  \n",
      " |  __gt__(self, value, /)\n",
      " |      Return self>value.\n",
      " |  \n",
      " |  __hash__(self, /)\n",
      " |      Return hash(self).\n",
      " |  \n",
      " |  __iter__(self, /)\n",
      " |      Implement iter(self).\n",
      " |  \n",
      " |  __le__(self, value, /)\n",
      " |      Return self<=value.\n",
      " |  \n",
      " |  __len__(self, /)\n",
      " |      Return len(self).\n",
      " |  \n",
      " |  __lt__(self, value, /)\n",
      " |      Return self<value.\n",
      " |  \n",
      " |  __mod__(self, value, /)\n",
      " |      Return self%value.\n",
      " |  \n",
      " |  __mul__(self, value, /)\n",
      " |      Return self*value.\n",
      " |  \n",
      " |  __ne__(self, value, /)\n",
      " |      Return self!=value.\n",
      " |  \n",
      " |  __repr__(self, /)\n",
      " |      Return repr(self).\n",
      " |  \n",
      " |  __rmod__(self, value, /)\n",
      " |      Return value%self.\n",
      " |  \n",
      " |  __rmul__(self, value, /)\n",
      " |      Return value*self.\n",
      " |  \n",
      " |  __sizeof__(self, /)\n",
      " |      Return the size of the string in memory, in bytes.\n",
      " |  \n",
      " |  __str__(self, /)\n",
      " |      Return str(self).\n",
      " |  \n",
      " |  capitalize(self, /)\n",
      " |      Return a capitalized version of the string.\n",
      " |      \n",
      " |      More specifically, make the first character have upper case and the rest lower\n",
      " |      case.\n",
      " |  \n",
      " |  casefold(self, /)\n",
      " |      Return a version of the string suitable for caseless comparisons.\n",
      " |  \n",
      " |  center(self, width, fillchar=' ', /)\n",
      " |      Return a centered string of length width.\n",
      " |      \n",
      " |      Padding is done using the specified fill character (default is a space).\n",
      " |  \n",
      " |  count(...)\n",
      " |      S.count(sub[, start[, end]]) -> int\n",
      " |      \n",
      " |      Return the number of non-overlapping occurrences of substring sub in\n",
      " |      string S[start:end].  Optional arguments start and end are\n",
      " |      interpreted as in slice notation.\n",
      " |  \n",
      " |  encode(self, /, encoding='utf-8', errors='strict')\n",
      " |      Encode the string using the codec registered for encoding.\n",
      " |      \n",
      " |      encoding\n",
      " |        The encoding in which to encode the string.\n",
      " |      errors\n",
      " |        The error handling scheme to use for encoding errors.\n",
      " |        The default is 'strict' meaning that encoding errors raise a\n",
      " |        UnicodeEncodeError.  Other possible values are 'ignore', 'replace' and\n",
      " |        'xmlcharrefreplace' as well as any other name registered with\n",
      " |        codecs.register_error that can handle UnicodeEncodeErrors.\n",
      " |  \n",
      " |  endswith(...)\n",
      " |      S.endswith(suffix[, start[, end]]) -> bool\n",
      " |      \n",
      " |      Return True if S ends with the specified suffix, False otherwise.\n",
      " |      With optional start, test S beginning at that position.\n",
      " |      With optional end, stop comparing S at that position.\n",
      " |      suffix can also be a tuple of strings to try.\n",
      " |  \n",
      " |  expandtabs(self, /, tabsize=8)\n",
      " |      Return a copy where all tab characters are expanded using spaces.\n",
      " |      \n",
      " |      If tabsize is not given, a tab size of 8 characters is assumed.\n",
      " |  \n",
      " |  find(...)\n",
      " |      S.find(sub[, start[, end]]) -> int\n",
      " |      \n",
      " |      Return the lowest index in S where substring sub is found,\n",
      " |      such that sub is contained within S[start:end].  Optional\n",
      " |      arguments start and end are interpreted as in slice notation.\n",
      " |      \n",
      " |      Return -1 on failure.\n",
      " |  \n",
      " |  format(...)\n",
      " |      S.format(*args, **kwargs) -> str\n",
      " |      \n",
      " |      Return a formatted version of S, using substitutions from args and kwargs.\n",
      " |      The substitutions are identified by braces ('{' and '}').\n",
      " |  \n",
      " |  format_map(...)\n",
      " |      S.format_map(mapping) -> str\n",
      " |      \n",
      " |      Return a formatted version of S, using substitutions from mapping.\n",
      " |      The substitutions are identified by braces ('{' and '}').\n",
      " |  \n",
      " |  index(...)\n",
      " |      S.index(sub[, start[, end]]) -> int\n",
      " |      \n",
      " |      Return the lowest index in S where substring sub is found,\n",
      " |      such that sub is contained within S[start:end].  Optional\n",
      " |      arguments start and end are interpreted as in slice notation.\n",
      " |      \n",
      " |      Raises ValueError when the substring is not found.\n",
      " |  \n",
      " |  isalnum(self, /)\n",
      " |      Return True if the string is an alpha-numeric string, False otherwise.\n",
      " |      \n",
      " |      A string is alpha-numeric if all characters in the string are alpha-numeric and\n",
      " |      there is at least one character in the string.\n",
      " |  \n",
      " |  isalpha(self, /)\n",
      " |      Return True if the string is an alphabetic string, False otherwise.\n",
      " |      \n",
      " |      A string is alphabetic if all characters in the string are alphabetic and there\n",
      " |      is at least one character in the string.\n",
      " |  \n",
      " |  isascii(self, /)\n",
      " |      Return True if all characters in the string are ASCII, False otherwise.\n",
      " |      \n",
      " |      ASCII characters have code points in the range U+0000-U+007F.\n",
      " |      Empty string is ASCII too.\n",
      " |  \n",
      " |  isdecimal(self, /)\n",
      " |      Return True if the string is a decimal string, False otherwise.\n",
      " |      \n",
      " |      A string is a decimal string if all characters in the string are decimal and\n",
      " |      there is at least one character in the string.\n",
      " |  \n",
      " |  isdigit(self, /)\n",
      " |      Return True if the string is a digit string, False otherwise.\n",
      " |      \n",
      " |      A string is a digit string if all characters in the string are digits and there\n",
      " |      is at least one character in the string.\n",
      " |  \n",
      " |  isidentifier(self, /)\n",
      " |      Return True if the string is a valid Python identifier, False otherwise.\n",
      " |      \n",
      " |      Call keyword.iskeyword(s) to test whether string s is a reserved identifier,\n",
      " |      such as \"def\" or \"class\".\n",
      " |  \n",
      " |  islower(self, /)\n",
      " |      Return True if the string is a lowercase string, False otherwise.\n",
      " |      \n",
      " |      A string is lowercase if all cased characters in the string are lowercase and\n",
      " |      there is at least one cased character in the string.\n",
      " |  \n",
      " |  isnumeric(self, /)\n",
      " |      Return True if the string is a numeric string, False otherwise.\n",
      " |      \n",
      " |      A string is numeric if all characters in the string are numeric and there is at\n",
      " |      least one character in the string.\n",
      " |  \n",
      " |  isprintable(self, /)\n",
      " |      Return True if the string is printable, False otherwise.\n",
      " |      \n",
      " |      A string is printable if all of its characters are considered printable in\n",
      " |      repr() or if it is empty.\n",
      " |  \n",
      " |  isspace(self, /)\n",
      " |      Return True if the string is a whitespace string, False otherwise.\n",
      " |      \n",
      " |      A string is whitespace if all characters in the string are whitespace and there\n",
      " |      is at least one character in the string.\n",
      " |  \n",
      " |  istitle(self, /)\n",
      " |      Return True if the string is a title-cased string, False otherwise.\n",
      " |      \n",
      " |      In a title-cased string, upper- and title-case characters may only\n",
      " |      follow uncased characters and lowercase characters only cased ones.\n",
      " |  \n",
      " |  isupper(self, /)\n",
      " |      Return True if the string is an uppercase string, False otherwise.\n",
      " |      \n",
      " |      A string is uppercase if all cased characters in the string are uppercase and\n",
      " |      there is at least one cased character in the string.\n",
      " |  \n",
      " |  join(self, iterable, /)\n",
      " |      Concatenate any number of strings.\n",
      " |      \n",
      " |      The string whose method is called is inserted in between each given string.\n",
      " |      The result is returned as a new string.\n",
      " |      \n",
      " |      Example: '.'.join(['ab', 'pq', 'rs']) -> 'ab.pq.rs'\n",
      " |  \n",
      " |  ljust(self, width, fillchar=' ', /)\n",
      " |      Return a left-justified string of length width.\n",
      " |      \n",
      " |      Padding is done using the specified fill character (default is a space).\n",
      " |  \n",
      " |  lower(self, /)\n",
      " |      Return a copy of the string converted to lowercase.\n",
      " |  \n",
      " |  lstrip(self, chars=None, /)\n",
      " |      Return a copy of the string with leading whitespace removed.\n",
      " |      \n",
      " |      If chars is given and not None, remove characters in chars instead.\n",
      " |  \n",
      " |  partition(self, sep, /)\n",
      " |      Partition the string into three parts using the given separator.\n",
      " |      \n",
      " |      This will search for the separator in the string.  If the separator is found,\n",
      " |      returns a 3-tuple containing the part before the separator, the separator\n",
      " |      itself, and the part after it.\n",
      " |      \n",
      " |      If the separator is not found, returns a 3-tuple containing the original string\n",
      " |      and two empty strings.\n",
      " |  \n",
      " |  removeprefix(self, prefix, /)\n",
      " |      Return a str with the given prefix string removed if present.\n",
      " |      \n",
      " |      If the string starts with the prefix string, return string[len(prefix):].\n",
      " |      Otherwise, return a copy of the original string.\n",
      " |  \n",
      " |  removesuffix(self, suffix, /)\n",
      " |      Return a str with the given suffix string removed if present.\n",
      " |      \n",
      " |      If the string ends with the suffix string and that suffix is not empty,\n",
      " |      return string[:-len(suffix)]. Otherwise, return a copy of the original\n",
      " |      string.\n",
      " |  \n",
      " |  replace(self, old, new, count=-1, /)\n",
      " |      Return a copy with all occurrences of substring old replaced by new.\n",
      " |      \n",
      " |        count\n",
      " |          Maximum number of occurrences to replace.\n",
      " |          -1 (the default value) means replace all occurrences.\n",
      " |      \n",
      " |      If the optional argument count is given, only the first count occurrences are\n",
      " |      replaced.\n",
      " |  \n",
      " |  rfind(...)\n",
      " |      S.rfind(sub[, start[, end]]) -> int\n",
      " |      \n",
      " |      Return the highest index in S where substring sub is found,\n",
      " |      such that sub is contained within S[start:end].  Optional\n",
      " |      arguments start and end are interpreted as in slice notation.\n",
      " |      \n",
      " |      Return -1 on failure.\n",
      " |  \n",
      " |  rindex(...)\n",
      " |      S.rindex(sub[, start[, end]]) -> int\n",
      " |      \n",
      " |      Return the highest index in S where substring sub is found,\n",
      " |      such that sub is contained within S[start:end].  Optional\n",
      " |      arguments start and end are interpreted as in slice notation.\n",
      " |      \n",
      " |      Raises ValueError when the substring is not found.\n",
      " |  \n",
      " |  rjust(self, width, fillchar=' ', /)\n",
      " |      Return a right-justified string of length width.\n",
      " |      \n",
      " |      Padding is done using the specified fill character (default is a space).\n",
      " |  \n",
      " |  rpartition(self, sep, /)\n",
      " |      Partition the string into three parts using the given separator.\n",
      " |      \n",
      " |      This will search for the separator in the string, starting at the end. If\n",
      " |      the separator is found, returns a 3-tuple containing the part before the\n",
      " |      separator, the separator itself, and the part after it.\n",
      " |      \n",
      " |      If the separator is not found, returns a 3-tuple containing two empty strings\n",
      " |      and the original string.\n",
      " |  \n",
      " |  rsplit(self, /, sep=None, maxsplit=-1)\n",
      " |      Return a list of the words in the string, using sep as the delimiter string.\n",
      " |      \n",
      " |        sep\n",
      " |          The delimiter according which to split the string.\n",
      " |          None (the default value) means split according to any whitespace,\n",
      " |          and discard empty strings from the result.\n",
      " |        maxsplit\n",
      " |          Maximum number of splits to do.\n",
      " |          -1 (the default value) means no limit.\n",
      " |      \n",
      " |      Splits are done starting at the end of the string and working to the front.\n",
      " |  \n",
      " |  rstrip(self, chars=None, /)\n",
      " |      Return a copy of the string with trailing whitespace removed.\n",
      " |      \n",
      " |      If chars is given and not None, remove characters in chars instead.\n",
      " |  \n",
      " |  split(self, /, sep=None, maxsplit=-1)\n",
      " |      Return a list of the words in the string, using sep as the delimiter string.\n",
      " |      \n",
      " |      sep\n",
      " |        The delimiter according which to split the string.\n",
      " |        None (the default value) means split according to any whitespace,\n",
      " |        and discard empty strings from the result.\n",
      " |      maxsplit\n",
      " |        Maximum number of splits to do.\n",
      " |        -1 (the default value) means no limit.\n",
      " |  \n",
      " |  splitlines(self, /, keepends=False)\n",
      " |      Return a list of the lines in the string, breaking at line boundaries.\n",
      " |      \n",
      " |      Line breaks are not included in the resulting list unless keepends is given and\n",
      " |      true.\n",
      " |  \n",
      " |  startswith(...)\n",
      " |      S.startswith(prefix[, start[, end]]) -> bool\n",
      " |      \n",
      " |      Return True if S starts with the specified prefix, False otherwise.\n",
      " |      With optional start, test S beginning at that position.\n",
      " |      With optional end, stop comparing S at that position.\n",
      " |      prefix can also be a tuple of strings to try.\n",
      " |  \n",
      " |  strip(self, chars=None, /)\n",
      " |      Return a copy of the string with leading and trailing whitespace removed.\n",
      " |      \n",
      " |      If chars is given and not None, remove characters in chars instead.\n",
      " |  \n",
      " |  swapcase(self, /)\n",
      " |      Convert uppercase characters to lowercase and lowercase characters to uppercase.\n",
      " |  \n",
      " |  title(self, /)\n",
      " |      Return a version of the string where each word is titlecased.\n",
      " |      \n",
      " |      More specifically, words start with uppercased characters and all remaining\n",
      " |      cased characters have lower case.\n",
      " |  \n",
      " |  translate(self, table, /)\n",
      " |      Replace each character in the string using the given translation table.\n",
      " |      \n",
      " |        table\n",
      " |          Translation table, which must be a mapping of Unicode ordinals to\n",
      " |          Unicode ordinals, strings, or None.\n",
      " |      \n",
      " |      The table must implement lookup/indexing via __getitem__, for instance a\n",
      " |      dictionary or list.  If this operation raises LookupError, the character is\n",
      " |      left untouched.  Characters mapped to None are deleted.\n",
      " |  \n",
      " |  upper(self, /)\n",
      " |      Return a copy of the string converted to uppercase.\n",
      " |  \n",
      " |  zfill(self, width, /)\n",
      " |      Pad a numeric string with zeros on the left, to fill a field of the given width.\n",
      " |      \n",
      " |      The string is never truncated.\n",
      " |  \n",
      " |  ----------------------------------------------------------------------\n",
      " |  Static methods defined here:\n",
      " |  \n",
      " |  __new__(*args, **kwargs) from builtins.type\n",
      " |      Create and return a new object.  See help(type) for accurate signature.\n",
      " |  \n",
      " |  maketrans(...)\n",
      " |      Return a translation table usable for str.translate().\n",
      " |      \n",
      " |      If there is only one argument, it must be a dictionary mapping Unicode\n",
      " |      ordinals (integers) or characters to Unicode ordinals, strings or None.\n",
      " |      Character keys will be then converted to ordinals.\n",
      " |      If there are two arguments, they must be strings of equal length, and\n",
      " |      in the resulting dictionary, each character in x will be mapped to the\n",
      " |      character at the same position in y. If there is a third argument, it\n",
      " |      must be a string, whose characters will be mapped to None in the result.\n",
      "\n"
     ]
    }
   ],
   "source": [
    "help(\"\".strip())"
   ]
  },
  {
   "cell_type": "code",
   "execution_count": 182,
   "id": "e3735304",
   "metadata": {},
   "outputs": [
    {
     "name": "stdout",
     "output_type": "stream",
     "text": [
      "The grocery shops sells an ice cube for $1.25 and makes profit of 0.2%.They sell 500 and makes profit of 125.0\n"
     ]
    }
   ],
   "source": [
    "#Output template\n",
    "print(\"The grocery shops sells an ice cube for ${0} and makes profit of {1}%.They sell {2} and makes profit of {3}\".format(cost_per_bag,profit_gained,no_of_bags,total_profit))"
   ]
  },
  {
   "cell_type": "code",
   "execution_count": 190,
   "id": "59363853",
   "metadata": {},
   "outputs": [
    {
     "name": "stdout",
     "output_type": "stream",
     "text": [
      "To\n",
      "Dr.Madhu\n",
      "HOD AI/ML\n",
      "JIT Bengaluru\n",
      "\n",
      "Subject:Request for leave\n",
      "\n",
      "Dear Sir, I, Kruthika K S, bearing USN:1JT20AI017 will not be able to attend the classes from 31/March/2022 - 2/April/2022 due to Personal emergency.Please oblige.Thank you\n",
      "                                                                                                          Yours Obidiently\n",
      "                                                                                                          Kruthika K S\n"
     ]
    }
   ],
   "source": [
    "leave_template='''To\n",
    "{0}\n",
    "{1}\n",
    "JIT Bengaluru\n",
    "\n",
    "Subject:Request for leave\n",
    "\n",
    "Dear Sir, I, {2}, bearing USN:{3} will not be able to attend the classes from {4} - {5} due to {6}.Please oblige.Thank you\n",
    "                                                                                                          Yours Obidiently\n",
    "                                                                                                          {2}'''\n",
    "print(leave_template.format(\"Dr.Madhu\",\"HOD AI/ML\",\"Kruthika K S\",\"1JT20AI017\",\"31/March/2022\",\"2/April/2022\",\"Personal emergency\"))"
   ]
  },
  {
   "cell_type": "markdown",
   "id": "9fed2c23",
   "metadata": {},
   "source": [
    "###LISTS,TUPLES AND DICTIONATY"
   ]
  },
  {
   "cell_type": "code",
   "execution_count": 191,
   "id": "732611dd",
   "metadata": {},
   "outputs": [
    {
     "data": {
      "text/plain": [
       "['Mango', 'Watermelon', 'Banana', 'Cherry']"
      ]
     },
     "execution_count": 191,
     "metadata": {},
     "output_type": "execute_result"
    }
   ],
   "source": [
    "fruits=['Mango','Watermelon','Banana','Cherry']\n",
    "fruits"
   ]
  },
  {
   "cell_type": "code",
   "execution_count": 192,
   "id": "1fb409bd",
   "metadata": {},
   "outputs": [
    {
     "data": {
      "text/plain": [
       "list"
      ]
     },
     "execution_count": 192,
     "metadata": {},
     "output_type": "execute_result"
    }
   ],
   "source": [
    "type(fruits)"
   ]
  },
  {
   "cell_type": "markdown",
   "id": "898a8038",
   "metadata": {},
   "source": [
    "###LIST SLICING "
   ]
  },
  {
   "cell_type": "code",
   "execution_count": 194,
   "id": "c66c18de",
   "metadata": {},
   "outputs": [
    {
     "data": {
      "text/plain": [
       "'Watermelon'"
      ]
     },
     "execution_count": 194,
     "metadata": {},
     "output_type": "execute_result"
    }
   ],
   "source": [
    "fruits[1]"
   ]
  },
  {
   "cell_type": "code",
   "execution_count": 195,
   "id": "8d0c81de",
   "metadata": {},
   "outputs": [
    {
     "data": {
      "text/plain": [
       "['Watermelon', 'Banana', 'Cherry']"
      ]
     },
     "execution_count": 195,
     "metadata": {},
     "output_type": "execute_result"
    }
   ],
   "source": [
    "fruits[1:]"
   ]
  },
  {
   "cell_type": "code",
   "execution_count": 211,
   "id": "e6a7f00e",
   "metadata": {},
   "outputs": [
    {
     "data": {
      "text/plain": [
       "['Mango', 'Watermelon', 'Banana', 'Cherry']"
      ]
     },
     "execution_count": 211,
     "metadata": {},
     "output_type": "execute_result"
    }
   ],
   "source": [
    "fruits[:]"
   ]
  },
  {
   "cell_type": "code",
   "execution_count": 196,
   "id": "68b28ce8",
   "metadata": {},
   "outputs": [
    {
     "data": {
      "text/plain": [
       "['Mango', 'Watermelon']"
      ]
     },
     "execution_count": 196,
     "metadata": {},
     "output_type": "execute_result"
    }
   ],
   "source": [
    "fruits[:2]"
   ]
  },
  {
   "cell_type": "code",
   "execution_count": 216,
   "id": "280b8727",
   "metadata": {},
   "outputs": [],
   "source": [
    "fruits2=fruits[:]"
   ]
  },
  {
   "cell_type": "code",
   "execution_count": 217,
   "id": "05802813",
   "metadata": {},
   "outputs": [
    {
     "data": {
      "text/plain": [
       "['Watermelon', 'Banana', 'Cherry']"
      ]
     },
     "execution_count": 217,
     "metadata": {},
     "output_type": "execute_result"
    }
   ],
   "source": [
    "fruits3=fruits[1:4]\n",
    "fruits3"
   ]
  },
  {
   "cell_type": "code",
   "execution_count": 239,
   "id": "935f8585",
   "metadata": {},
   "outputs": [
    {
     "data": {
      "text/plain": [
       "['Mango', 'Watermelon', 'Orange']"
      ]
     },
     "execution_count": 239,
     "metadata": {},
     "output_type": "execute_result"
    }
   ],
   "source": [
    "fruits[0:-2]"
   ]
  },
  {
   "cell_type": "code",
   "execution_count": 238,
   "id": "f5b827ec",
   "metadata": {},
   "outputs": [
    {
     "data": {
      "text/plain": [
       "'Banana'"
      ]
     },
     "execution_count": 238,
     "metadata": {},
     "output_type": "execute_result"
    }
   ],
   "source": [
    "fruits.append('Green Aple')#Adds the element at last\n",
    "fruits.remove('Cherry')#removes the element using name\n",
    "fruits.insert(2,'Orange')#insert the element at given position\n",
    "fruits.pop(3)#removing based index"
   ]
  },
  {
   "cell_type": "code",
   "execution_count": 228,
   "id": "37aa16fc",
   "metadata": {},
   "outputs": [
    {
     "data": {
      "text/plain": [
       "[23,\n",
       " 'Hello',\n",
       " None,\n",
       " 3.14,\n",
       " ['Mango',\n",
       "  'Watermelon',\n",
       "  'Orange',\n",
       "  'Orange',\n",
       "  'Orange',\n",
       "  'Banana',\n",
       "  'Cherry',\n",
       "  'Chikoo',\n",
       "  'Chikoo'],\n",
       " True]"
      ]
     },
     "execution_count": 228,
     "metadata": {},
     "output_type": "execute_result"
    }
   ],
   "source": [
    "a_list=[23,'Hello',None,3.14,fruits,3<=5]\n",
    "a_list"
   ]
  },
  {
   "cell_type": "code",
   "execution_count": 227,
   "id": "3ebdc896",
   "metadata": {},
   "outputs": [],
   "source": [
    "empty_list=[]"
   ]
  },
  {
   "cell_type": "code",
   "execution_count": 200,
   "id": "59e63215",
   "metadata": {},
   "outputs": [
    {
     "data": {
      "text/plain": [
       "0"
      ]
     },
     "execution_count": 200,
     "metadata": {},
     "output_type": "execute_result"
    }
   ],
   "source": [
    "len(empty_list)"
   ]
  },
  {
   "cell_type": "code",
   "execution_count": 206,
   "id": "9d40a2de",
   "metadata": {},
   "outputs": [
    {
     "data": {
      "text/plain": [
       "6"
      ]
     },
     "execution_count": 206,
     "metadata": {},
     "output_type": "execute_result"
    }
   ],
   "source": [
    "len(a_list)\n",
    "b=len(fruits)"
   ]
  },
  {
   "cell_type": "code",
   "execution_count": 209,
   "id": "0f35a67f",
   "metadata": {},
   "outputs": [
    {
     "name": "stdout",
     "output_type": "stream",
     "text": [
      "Yes Banana is present\n"
     ]
    }
   ],
   "source": [
    "if 'Banana' in fruits:\n",
    "    print(\"Yes Banana is present\")\n",
    "else:\n",
    "    print(\"No, Banana is not present\")"
   ]
  },
  {
   "cell_type": "code",
   "execution_count": 240,
   "id": "1d1bc89a",
   "metadata": {},
   "outputs": [
    {
     "data": {
      "text/plain": [
       "['0', '1', '2', '3', '4', '5', '6', '7', '8', '9']"
      ]
     },
     "execution_count": 240,
     "metadata": {},
     "output_type": "execute_result"
    }
   ],
   "source": [
    "actual_numbers"
   ]
  },
  {
   "cell_type": "code",
   "execution_count": 244,
   "id": "b109fde8",
   "metadata": {},
   "outputs": [
    {
     "data": {
      "text/plain": [
       "[]"
      ]
     },
     "execution_count": 244,
     "metadata": {},
     "output_type": "execute_result"
    }
   ],
   "source": [
    "i=0\n",
    "b=len(actual_numbers)\n",
    "for i in range(b,0,-1):"
   ]
  },
  {
   "cell_type": "code",
   "execution_count": 245,
   "id": "35cde23d",
   "metadata": {},
   "outputs": [],
   "source": [
    "#Tuples \n",
    "#They are imuttable they cannot be changed\n",
    "Fruits=('Apple','Cherry','Dates')"
   ]
  },
  {
   "cell_type": "code",
   "execution_count": 247,
   "id": "07469887",
   "metadata": {},
   "outputs": [
    {
     "data": {
      "text/plain": [
       "'apple'"
      ]
     },
     "execution_count": 247,
     "metadata": {},
     "output_type": "execute_result"
    }
   ],
   "source": [
    "Fruits[0]"
   ]
  },
  {
   "cell_type": "code",
   "execution_count": 249,
   "id": "ba3a418a",
   "metadata": {},
   "outputs": [
    {
     "data": {
      "text/plain": [
       "('Athos', 'Porthos', 'Aramis')"
      ]
     },
     "execution_count": 249,
     "metadata": {},
     "output_type": "execute_result"
    }
   ],
   "source": [
    "the_3_musketeers='Athos','Porthos','Aramis'\n",
    "the_3_musketeers"
   ]
  },
  {
   "cell_type": "code",
   "execution_count": 252,
   "id": "69ff099e",
   "metadata": {},
   "outputs": [
    {
     "data": {
      "text/plain": [
       "{'name': 'Kruthika K S', 'Sex': 'Female', 'Age': 20, 'Married': False}"
      ]
     },
     "execution_count": 252,
     "metadata": {},
     "output_type": "execute_result"
    }
   ],
   "source": [
    "person={'name':'Kruthika K S','Sex':'Female','Age':20,'Married':False}\n",
    "person"
   ]
  },
  {
   "cell_type": "code",
   "execution_count": 251,
   "id": "5e9f2790",
   "metadata": {},
   "outputs": [
    {
     "data": {
      "text/plain": [
       "dict"
      ]
     },
     "execution_count": 251,
     "metadata": {},
     "output_type": "execute_result"
    }
   ],
   "source": [
    "type(person)"
   ]
  },
  {
   "cell_type": "code",
   "execution_count": 256,
   "id": "c2478334",
   "metadata": {},
   "outputs": [
    {
     "data": {
      "text/plain": [
       "{'name': 'Kruthika K S', 'sex': 'Female', 'age': 20, 'married': False}"
      ]
     },
     "execution_count": 256,
     "metadata": {},
     "output_type": "execute_result"
    }
   ],
   "source": [
    "person2=dict(name='Sharanya',sex='Female',age=24,married=False)\n",
    "person2"
   ]
  },
  {
   "cell_type": "code",
   "execution_count": 257,
   "id": "5a135f6b",
   "metadata": {},
   "outputs": [
    {
     "data": {
      "text/plain": [
       "dict"
      ]
     },
     "execution_count": 257,
     "metadata": {},
     "output_type": "execute_result"
    }
   ],
   "source": [
    "type(person2)"
   ]
  },
  {
   "cell_type": "code",
   "execution_count": 260,
   "id": "a4cb29e7",
   "metadata": {},
   "outputs": [
    {
     "data": {
      "text/plain": [
       "'Kruthika K S'"
      ]
     },
     "execution_count": 260,
     "metadata": {},
     "output_type": "execute_result"
    }
   ],
   "source": [
    "person['name']"
   ]
  },
  {
   "cell_type": "code",
   "execution_count": 262,
   "id": "dae83a70",
   "metadata": {},
   "outputs": [
    {
     "data": {
      "text/plain": [
       "20"
      ]
     },
     "execution_count": 262,
     "metadata": {},
     "output_type": "execute_result"
    }
   ],
   "source": [
    "person2['age']#Any thing other than keys is given it gives key error"
   ]
  },
  {
   "cell_type": "code",
   "execution_count": 263,
   "id": "dc1164b6",
   "metadata": {},
   "outputs": [
    {
     "data": {
      "text/plain": [
       "1"
      ]
     },
     "execution_count": 263,
     "metadata": {},
     "output_type": "execute_result"
    }
   ],
   "source": [
    "colors=dict(Blue=1,Green=2,Red=3,Purple=7)\n",
    "colors['Blue']"
   ]
  },
  {
   "cell_type": "code",
   "execution_count": 264,
   "id": "5394a9b8",
   "metadata": {},
   "outputs": [
    {
     "data": {
      "text/plain": [
       "{'name': 'Kruthika K S',\n",
       " 'Sex': 'Female',\n",
       " 'Age': 20,\n",
       " 'Married': False,\n",
       " 'Address': 'Bengaluru'}"
      ]
     },
     "execution_count": 264,
     "metadata": {},
     "output_type": "execute_result"
    }
   ],
   "source": [
    "person['Address']='Bengaluru'\n",
    "person"
   ]
  },
  {
   "cell_type": "code",
   "execution_count": 266,
   "id": "8bb347bc",
   "metadata": {},
   "outputs": [
    {
     "data": {
      "text/plain": [
       "'Female'"
      ]
     },
     "execution_count": 266,
     "metadata": {},
     "output_type": "execute_result"
    }
   ],
   "source": [
    "person.pop('Sex')"
   ]
  },
  {
   "cell_type": "code",
   "execution_count": 267,
   "id": "ebed56e1",
   "metadata": {},
   "outputs": [
    {
     "data": {
      "text/plain": [
       "{'name': 'Kruthika K S', 'Age': 20, 'Married': False, 'Address': 'Bengaluru'}"
      ]
     },
     "execution_count": 267,
     "metadata": {},
     "output_type": "execute_result"
    }
   ],
   "source": [
    "person"
   ]
  },
  {
   "cell_type": "code",
   "execution_count": 268,
   "id": "0dfa4815",
   "metadata": {
    "scrolled": true
   },
   "outputs": [
    {
     "data": {
      "text/plain": [
       "dict_keys(['name', 'Age', 'Married', 'Address'])"
      ]
     },
     "execution_count": 268,
     "metadata": {},
     "output_type": "execute_result"
    }
   ],
   "source": [
    "person.keys()"
   ]
  },
  {
   "cell_type": "code",
   "execution_count": 270,
   "id": "c3b8e367",
   "metadata": {},
   "outputs": [
    {
     "data": {
      "text/plain": [
       "dict_values(['Kruthika K S', 20, False, 'Bengaluru'])"
      ]
     },
     "execution_count": 270,
     "metadata": {},
     "output_type": "execute_result"
    }
   ],
   "source": [
    "person.values()"
   ]
  },
  {
   "cell_type": "code",
   "execution_count": 271,
   "id": "0c6632d8",
   "metadata": {},
   "outputs": [
    {
     "data": {
      "text/plain": [
       "dict_items([('name', 'Kruthika K S'), ('Age', 20), ('Married', False), ('Address', 'Bengaluru')])"
      ]
     },
     "execution_count": 271,
     "metadata": {},
     "output_type": "execute_result"
    }
   ],
   "source": [
    "person.items()"
   ]
  },
  {
   "cell_type": "code",
   "execution_count": 272,
   "id": "a3fce62f",
   "metadata": {},
   "outputs": [],
   "source": [
    "person['Age']=24"
   ]
  },
  {
   "cell_type": "code",
   "execution_count": 273,
   "id": "7ac0931a",
   "metadata": {},
   "outputs": [
    {
     "data": {
      "text/plain": [
       "{'name': 'Kruthika K S', 'Age': 24, 'Married': False, 'Address': 'Bengaluru'}"
      ]
     },
     "execution_count": 273,
     "metadata": {},
     "output_type": "execute_result"
    }
   ],
   "source": [
    "person"
   ]
  },
  {
   "cell_type": "code",
   "execution_count": 274,
   "id": "7b2a48db",
   "metadata": {},
   "outputs": [],
   "source": [
    "person['Age']=20"
   ]
  },
  {
   "cell_type": "code",
   "execution_count": 275,
   "id": "7d639150",
   "metadata": {},
   "outputs": [
    {
     "data": {
      "text/plain": [
       "{'name': 'Kruthika K S', 'Age': 20, 'Married': False, 'Address': 'Bengaluru'}"
      ]
     },
     "execution_count": 275,
     "metadata": {},
     "output_type": "execute_result"
    }
   ],
   "source": [
    "person"
   ]
  },
  {
   "cell_type": "markdown",
   "id": "9f2eaf16",
   "metadata": {},
   "source": []
  }
 ],
 "metadata": {
  "kernelspec": {
   "display_name": "Python 3 (ipykernel)",
   "language": "python",
   "name": "python3"
  },
  "language_info": {
   "codemirror_mode": {
    "name": "ipython",
    "version": 3
   },
   "file_extension": ".py",
   "mimetype": "text/x-python",
   "name": "python",
   "nbconvert_exporter": "python",
   "pygments_lexer": "ipython3",
   "version": "3.9.12"
  }
 },
 "nbformat": 4,
 "nbformat_minor": 5
}
