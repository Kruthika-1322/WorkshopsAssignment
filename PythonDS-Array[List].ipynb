{
 "cells": [
  {
   "cell_type": "code",
   "execution_count": 4,
   "id": "9c3c8aea",
   "metadata": {},
   "outputs": [
    {
     "name": "stdout",
     "output_type": "stream",
     "text": [
      "150\n",
      "False\n",
      "7150\n",
      "[2200, 2350, 2600, 2130, 2190, 1980]\n",
      "[2200, 2350, 2600, 1930, 2190, 1980]\n"
     ]
    }
   ],
   "source": [
    "monthly_expense=[2200,2350,2600,2130,2190]\n",
    "print(monthly_expense[1]-monthly_expense[0])\n",
    "print(2000 in monthly_expense)\n",
    "print(monthly_expense[0]+monthly_expense[1]+monthly_expense[2])\n",
    "monthly_expense.append(1980)\n",
    "print(monthly_expense)\n",
    "monthly_expense[3]=monthly_expense[3]-200\n",
    "print(monthly_expense)\n"
   ]
  },
  {
   "cell_type": "code",
   "execution_count": 16,
   "id": "7973bbc6",
   "metadata": {},
   "outputs": [
    {
     "name": "stdout",
     "output_type": "stream",
     "text": [
      "['spider man', 'thor', 'hulk', 'iron man', 'captain america', 'black panther']\n",
      "['spider man', 'thor', 'hulk', 'iron man', 'captain america']\n",
      "['spider man', 'thor', 'hulk', 'black panther', 'iron man', 'captain america']\n",
      "['spider man', 'doctor strange', 'black panther', 'iron man', 'captain america']\n",
      "['black panther', 'captain america', 'doctor strange', 'iron man', 'spider man']\n"
     ]
    }
   ],
   "source": [
    "heroes=['spider man','thor','hulk','iron man','captain america']\n",
    "heroes.append('black panther')\n",
    "print(heroes)\n",
    "heroes.remove('black panther')\n",
    "print(heroes)\n",
    "heroes.insert(3,'black panther')\n",
    "print(heroes)\n",
    "heroes[1:3]=['doctor strange']\n",
    "print(heroes)\n",
    "heroes.sort()\n",
    "print(heroes)"
   ]
  },
  {
   "cell_type": "code",
   "execution_count": 20,
   "id": "046e0646",
   "metadata": {},
   "outputs": [
    {
     "name": "stdout",
     "output_type": "stream",
     "text": [
      "Enter a number200\n",
      "[1, 3, 5, 7, 9, 11, 13, 15, 17, 19, 21, 23, 25, 27, 29, 31, 33, 35, 37, 39, 41, 43, 45, 47, 49, 51, 53, 55, 57, 59, 61, 63, 65, 67, 69, 71, 73, 75, 77, 79, 81, 83, 85, 87, 89, 91, 93, 95, 97, 99, 101, 103, 105, 107, 109, 111, 113, 115, 117, 119, 121, 123, 125, 127, 129, 131, 133, 135, 137, 139, 141, 143, 145, 147, 149, 151, 153, 155, 157, 159, 161, 163, 165, 167, 169, 171, 173, 175, 177, 179, 181, 183, 185, 187, 189, 191, 193, 195, 197, 199]\n"
     ]
    }
   ],
   "source": [
    "num=int(input(\"Enter a number\"))\n",
    "odd_num=[]\n",
    "for i in range(1,num+1,2):\n",
    "    odd_num.append(i)\n",
    "print(odd_num)"
   ]
  }
 ],
 "metadata": {
  "kernelspec": {
   "display_name": "Python 3 (ipykernel)",
   "language": "python",
   "name": "python3"
  },
  "language_info": {
   "codemirror_mode": {
    "name": "ipython",
    "version": 3
   },
   "file_extension": ".py",
   "mimetype": "text/x-python",
   "name": "python",
   "nbconvert_exporter": "python",
   "pygments_lexer": "ipython3",
   "version": "3.9.12"
  }
 },
 "nbformat": 4,
 "nbformat_minor": 5
}
