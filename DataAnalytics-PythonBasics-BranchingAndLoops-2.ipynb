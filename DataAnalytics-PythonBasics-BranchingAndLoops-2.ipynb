{
 "cells": [
  {
   "cell_type": "code",
   "execution_count": null,
   "id": "87947c08",
   "metadata": {},
   "outputs": [],
   "source": [
    "#a_number=int(input(\"Enter a number:\"))\n",
    "if a_number%2==0:\n",
    "    print(f\"The number {a_number} is divisible by 2\")\n",
    "elif a_number%3==0:\n",
    "    print(f\"The number {a_number} is divisible by 3\")\n",
    "elif a_number%5==0:\n",
    "    print(f\"The number {a_number} is divisible by 5\")\n",
    "else:\n",
    "    print(f\"The number {a_number} is not divisible by 2,3 or 5\")"
   ]
  },
  {
   "cell_type": "code",
   "execution_count": null,
   "id": "627ffd3a",
   "metadata": {},
   "outputs": [],
   "source": [
    "i=1\n",
    "while i<11:\n",
    "    print(f'{i}')\n",
    "    i+=1"
   ]
  },
  {
   "cell_type": "code",
   "execution_count": null,
   "id": "ef032a36",
   "metadata": {},
   "outputs": [],
   "source": [
    "n=1\n",
    "count=0\n",
    "while n<=10:\n",
    "    if n%2==0:\n",
    "        print(f\"{n}\")\n",
    "    else:\n",
    "        count+=1\n",
    "    n+=1\n",
    "print(f\" The number of odd numbers present are {count}\")"
   ]
  },
  {
   "cell_type": "code",
   "execution_count": null,
   "id": "3ba73be6",
   "metadata": {},
   "outputs": [],
   "source": [
    "n=1\n",
    "count=0\n",
    "while n<=10:\n",
    "    if n%2==0:\n",
    "        print(f\"{n}\")\n",
    "    else:\n",
    "        count+=1\n",
    "    n+=1\n",
    "print(f\"The number of odd numbers present are {count}\")"
   ]
  },
  {
   "cell_type": "code",
   "execution_count": null,
   "id": "460d15dd",
   "metadata": {},
   "outputs": [],
   "source": [
    "n=1\n",
    "count=0\n",
    "count3=0\n",
    "while n<=10:\n",
    "    if n%2==0:\n",
    "        print(count)\n",
    "    else:\n",
    "        count+=1\n",
    "        if n%3==0:\n",
    "            count3+=1\n",
    "        "
   ]
  },
  {
   "cell_type": "code",
   "execution_count": 9,
   "id": "33866438",
   "metadata": {},
   "outputs": [
    {
     "name": "stdout",
     "output_type": "stream",
     "text": [
      "The factorial of 100 is 402387260077093773543702433923003985719374864210714632543799910429938512398629020592044208486969404800479988610197196058631666872994808558901323829669944590997424504087073759918823627727188732519779505950995276120874975462497043601418278094646496291056393887437886487337119181045825783647849977012476632889835955735432513185323958463075557409114262417474349347553428646576611667797396668820291207379143853719588249808126867838374559731746136085379534524221586593201928090878297308431392844403281231558611036976801357304216168747609675871348312025478589320767169132448426236131412508780208000261683151027341827977704784635868170164365024153691398281264810213092761244896359928705114964975419909342221566832572080821333186116811553615836546984046708975602900950537616475847728421889679646244945160765353408198901385442487984959953319101723355556602139450399736280750137837615307127761926849034352625200015888535147331611702103968175921510907788019393178114194545257223865541461062892187960223838971476088506276862967146674697562911234082439208160153780889893964518263243671616762179168909779911903754031274622289988005195444414282012187361745992642956581746628302955570299024324153181617210465832036786906117260158783520751516284225540265170483304226143974286933061690897968482590125458327168226458066526769958652682272807075781391858178889652208164348344825993266043367660176999612831860788386150279465955131156552036093988180612138558600301435694527224206344631797460594682573103790084024432438465657245014402821885252470935190620929023136493273497565513958720559654228749774011413346962715422845862377387538230483865688976461927383814900140767310446640259899490222221765904339901886018566526485061799702356193897017860040811889729918311021171229845901641921068884387121855646124960798722908519296819372388642614839657382291123125024186649353143970137428531926649875337218940694281434118520158014123344828015051399694290153483077644569099073152433278288269864602789864321139083506217095002597389863554277196742822248757586765752344220207573630569498825087968928162753848863396909959826280956121450994871701244516461260379029309120889086942028510640182154399457156805941872748998094254742173582401063677404595741785160829230135358081840096996372524230560855903700624271243416909004153690105933983835777939410970027753472000000000000000000000000000000000000000000000000000000000000000000000000000000000000000000000000000000000000000000000000000000000000000000000000000000000000000000000000000000000000000000000000000000000000000000000000000000000000000000000000000000000\n",
      "Wall time: 0 ns\n"
     ]
    }
   ],
   "source": [
    "%%time\n",
    "n=1\n",
    "factorial=1\n",
    "while n<=1000:\n",
    "    factorial=factorial*n\n",
    "    n+=1\n",
    "print(f\"The factorial of 100 is {factorial}\")"
   ]
  },
  {
   "cell_type": "code",
   "execution_count": 1,
   "id": "1f74149b",
   "metadata": {},
   "outputs": [
    {
     "name": "stdout",
     "output_type": "stream",
     "text": [
      "\n",
      "*\n",
      "**\n",
      "***\n",
      "****\n",
      "*****\n",
      "******\n",
      "*******\n",
      "******\n",
      "*****\n",
      "****\n",
      "***\n",
      "**\n",
      "*\n"
     ]
    }
   ],
   "source": [
    "count=0\n",
    "while count<=6:\n",
    "    print('*'*count)\n",
    "    count+=1\n",
    "while count>=1:\n",
    "    print('*'*count)\n",
    "    count-=1"
   ]
  },
  {
   "cell_type": "markdown",
   "id": "014371cb",
   "metadata": {},
   "source": [
    "DIAMOND SHAPE'*' ASSIGNMENT "
   ]
  },
  {
   "cell_type": "code",
   "execution_count": 4,
   "id": "8f93b68b",
   "metadata": {},
   "outputs": [
    {
     "name": "stdout",
     "output_type": "stream",
     "text": [
      "1\n",
      "2\n",
      "3\n",
      "4\n",
      "5\n",
      "6\n",
      "7\n",
      "8\n",
      "9\n",
      "10\n",
      "11\n",
      "12\n",
      "13\n",
      "14\n",
      "15\n",
      "16\n",
      "17\n",
      "18\n",
      "19\n",
      "20\n",
      "21\n",
      "22\n",
      "23\n",
      "24\n",
      "25\n",
      "26\n",
      "27\n",
      "28\n",
      "29\n",
      "30\n",
      "31\n",
      "32\n",
      "33\n",
      "34\n",
      "35\n",
      "36\n",
      "37\n",
      "38\n",
      "39\n",
      "40\n",
      "41\n",
      "42\n",
      "42 encountered\n"
     ]
    }
   ],
   "source": [
    "n=1\n",
    "while n<=100:\n",
    "    print(n)\n",
    "    if n==42:\n",
    "        print(\"42 encountered\")\n",
    "        break\n",
    "    n+=1"
   ]
  },
  {
   "cell_type": "code",
   "execution_count": 8,
   "id": "39c2c986",
   "metadata": {},
   "outputs": [
    {
     "name": "stdout",
     "output_type": "stream",
     "text": [
      "Skipping 2\n",
      "Multiplying with 3\n",
      "Skipping 4\n",
      "Multiplying with 5\n",
      "Skipping 6\n",
      "Multiplying with 7\n",
      "Skipping 8\n",
      "Multiplying with 9\n",
      "Skipping 10\n",
      "Multiplying with 11\n",
      "Skipping 12\n",
      "Multiplying with 13\n",
      "Skipping 14\n",
      "Multiplying with 15\n",
      "Skipping 16\n",
      "Multiplying with 17\n",
      "Skipping 18\n",
      "Multiplying with 19\n",
      "Skipping 20\n",
      "i 20\n",
      "result 654729075\n"
     ]
    }
   ],
   "source": [
    "i=1\n",
    "result=1\n",
    "while i<20:\n",
    "    i+=1\n",
    "    if i%2==0:\n",
    "        print(\"Skipping {}\".format(i))\n",
    "        continue\n",
    "    print(\"Multiplying with {}\".format(i))\n",
    "    result=result*i\n",
    "print('i',i)\n",
    "print(\"result\",result)"
   ]
  },
  {
   "cell_type": "code",
   "execution_count": 10,
   "id": "38c57025",
   "metadata": {},
   "outputs": [],
   "source": [
    "fruits=['Mango','Watermelon','Cherry','Banana']"
   ]
  },
  {
   "cell_type": "code",
   "execution_count": 12,
   "id": "21841cc2",
   "metadata": {},
   "outputs": [
    {
     "name": "stdout",
     "output_type": "stream",
     "text": [
      "Mango\n",
      "Watermelon\n",
      "Cherry\n",
      "Banana\n"
     ]
    }
   ],
   "source": [
    "for fruit in fruits:\n",
    "    print(fruit)"
   ]
  },
  {
   "cell_type": "code",
   "execution_count": 13,
   "id": "f88741c5",
   "metadata": {},
   "outputs": [],
   "source": [
    "num=\"0123456789\""
   ]
  },
  {
   "cell_type": "code",
   "execution_count": 17,
   "id": "fcf62476",
   "metadata": {},
   "outputs": [
    {
     "data": {
      "text/plain": [
       "['0', '1', '2', '3', '4', '5', '6', '7', '8', '9']"
      ]
     },
     "execution_count": 17,
     "metadata": {},
     "output_type": "execute_result"
    }
   ],
   "source": [
    "number=list(num)\n",
    "number"
   ]
  },
  {
   "cell_type": "code",
   "execution_count": 16,
   "id": "64a7c368",
   "metadata": {},
   "outputs": [
    {
     "name": "stdout",
     "output_type": "stream",
     "text": [
      "0\n",
      "1\n",
      "2\n",
      "3\n",
      "4\n",
      "5\n",
      "6\n",
      "7\n",
      "8\n",
      "9\n"
     ]
    }
   ],
   "source": [
    "for numbers in number:\n",
    "    print(numbers)"
   ]
  },
  {
   "cell_type": "code",
   "execution_count": 18,
   "id": "af54297f",
   "metadata": {},
   "outputs": [
    {
     "name": "stdout",
     "output_type": "stream",
     "text": [
      "0\n",
      "1\n",
      "2\n",
      "3\n",
      "4\n",
      "5\n",
      "6\n",
      "7\n",
      "8\n",
      "9\n"
     ]
    }
   ],
   "source": [
    "for i in ['0', '1', '2', '3', '4', '5', '6', '7', '8', '9']:\n",
    "    print(i)"
   ]
  },
  {
   "cell_type": "code",
   "execution_count": 21,
   "id": "a2fae91d",
   "metadata": {},
   "outputs": [
    {
     "name": "stdout",
     "output_type": "stream",
     "text": [
      "9\n",
      "8\n",
      "7\n",
      "6\n",
      "5\n",
      "4\n",
      "3\n",
      "2\n",
      "1\n",
      "0\n"
     ]
    }
   ],
   "source": [
    "for i in range(9,-1,-1):# range(initial  value, condition, increment/decrement)\n",
    "    print(i)"
   ]
  },
  {
   "cell_type": "code",
   "execution_count": 23,
   "id": "41294bce",
   "metadata": {},
   "outputs": [
    {
     "name": "stdout",
     "output_type": "stream",
     "text": [
      "K r u t h i k a "
     ]
    }
   ],
   "source": [
    "for i in 'Kruthika':\n",
    "    print(i,end=\" \")# end with \" \" prints the elements in same line"
   ]
  },
  {
   "cell_type": "code",
   "execution_count": 28,
   "id": "c93190cf",
   "metadata": {},
   "outputs": [
    {
     "name": "stdout",
     "output_type": "stream",
     "text": [
      "Key:Value name , Value: Kruthika K S\n",
      "Key:Value Sex , Value: Female\n",
      "Key:Value Age , Value: 20\n",
      "Key:Value Married , Value: False\n"
     ]
    }
   ],
   "source": [
    "person={'name':'Kruthika K S','Sex':'Female','Age':20,'Married':False}\n",
    "person2=dict(name='Sharanya',sex='Female',age=24,married=False)\n",
    "for key in person:\n",
    "    print(\"Key:\",key,\",\",\"Value:\",person[key])"
   ]
  },
  {
   "cell_type": "code",
   "execution_count": 29,
   "id": "c3f5b527",
   "metadata": {},
   "outputs": [
    {
     "name": "stdout",
     "output_type": "stream",
     "text": [
      "Kruthika K S\n",
      "Female\n",
      "20\n",
      "False\n"
     ]
    }
   ],
   "source": [
    "for value in person.values():\n",
    "    print(value)"
   ]
  },
  {
   "cell_type": "code",
   "execution_count": 33,
   "id": "2952a774",
   "metadata": {},
   "outputs": [
    {
     "name": "stdout",
     "output_type": "stream",
     "text": [
      "Key: name Value: Kruthika K S\n",
      "Key: Sex Value: Female\n",
      "Key: Age Value: 20\n",
      "Key: Married Value: False\n"
     ]
    }
   ],
   "source": [
    "for key,value in person.items():\n",
    "    print(\"Key:\",key,\"Value:\",value)"
   ]
  },
  {
   "cell_type": "code",
   "execution_count": 45,
   "id": "d0e1beac",
   "metadata": {},
   "outputs": [
    {
     "name": "stdout",
     "output_type": "stream",
     "text": [
      "Hello user how are you?\n"
     ]
    }
   ],
   "source": [
    "def greetings():\n",
    "    \"\"\" This is a sample function to test the docstring feature\"\"\"\n",
    "    userName='Kruthika'\n",
    "    print(\"Hello user how are you?\")\n",
    "greetings()"
   ]
  },
  {
   "cell_type": "code",
   "execution_count": 46,
   "id": "8f6e4be8",
   "metadata": {},
   "outputs": [
    {
     "name": "stdout",
     "output_type": "stream",
     "text": [
      "Help on function greetings in module __main__:\n",
      "\n",
      "greetings()\n",
      "    This is a sample function to test the docstring feature\n",
      "\n"
     ]
    }
   ],
   "source": [
    "help(greetings)"
   ]
  },
  {
   "cell_type": "code",
   "execution_count": 53,
   "id": "bbae0459",
   "metadata": {},
   "outputs": [
    {
     "name": "stdout",
     "output_type": "stream",
     "text": [
      "Hello user how are you? Kruthika\n"
     ]
    }
   ],
   "source": [
    "def greetings2(ex):\n",
    "    \"\"\" This is a sample function to test the docstring feature\"\"\"\n",
    "    userName='Kruthika'\n",
    "    return ex,userName #in Python we can return as many values as we want\n",
    "ex=\"Hello user how are you?\"\n",
    "res,res2=greetings2(ex)\n",
    "print(res,res2)"
   ]
  },
  {
   "cell_type": "code",
   "execution_count": 2,
   "id": "3f18b148",
   "metadata": {},
   "outputs": [
    {
     "name": "stdout",
     "output_type": "stream",
     "text": [
      "2 is divisible by 2\n",
      "4 is divisible by 2\n",
      "6 is divisible by 2\n",
      "8 is divisible by 2\n",
      "10 is divisible by 2\n"
     ]
    }
   ],
   "source": [
    "def filter_even_numbers(number_List):\n",
    "    '''This function is used to filter the even numbers from 1 to 10'''\n",
    "    evenList=[]\n",
    "    for num in number_List:\n",
    "        if num%2==0:\n",
    "            print(f\"{num} is divisible by 2\")\n",
    "            evenList.append(num)\n",
    "number_List=[1,2,3,4,5,6,7,8,9,10]\n",
    "filter_even_numbers(number_List)"
   ]
  },
  {
   "cell_type": "code",
   "execution_count": 2,
   "id": "30a1d23d",
   "metadata": {},
   "outputs": [
    {
     "name": "stdout",
     "output_type": "stream",
     "text": [
      "[2, 4, 6, 8, 10] [1, 3, 5, 7, 9]\n"
     ]
    }
   ],
   "source": [
    "def filter_numbers(number_List):\n",
    "    '''This function is used to filter the even numbers from 1 to 10'''\n",
    "    evenList=[]\n",
    "    oddList=[]\n",
    "    for num in number_List:\n",
    "        if num%2==0:\n",
    "            evenList.append(num)\n",
    "        else:\n",
    "            oddList.append(num)\n",
    "    return evenList,oddList\n",
    "number_List=[1,2,3,4,5,6,7,8,9,10]\n",
    "evenList,oddList=filter_numbers(number_List)\n",
    "print(evenList,oddList)"
   ]
  },
  {
   "cell_type": "code",
   "execution_count": null,
   "id": "a36eb4f6",
   "metadata": {},
   "outputs": [],
   "source": [
    "import math"
   ]
  },
  {
   "cell_type": "code",
   "execution_count": 29,
   "id": "e33a7ac6",
   "metadata": {},
   "outputs": [
    {
     "name": "stdout",
     "output_type": "stream",
     "text": [
      "The two options are paying 1.6887.276888775076 2.6567.197533892191\n",
      "6567.197533892191 is better option\n"
     ]
    }
   ],
   "source": [
    "def calculate_EMI(cost_of_the_house,duration,intrest_rate,downpayment=0):\n",
    "    '''Calculate the equal monthly installment(emi) for a loan.\n",
    "    Arguments:\n",
    "    '''\n",
    "    amount_paid=cost_of_the_house-downpayment\n",
    "    EMI=amount_paid*intrest_rate*((1+intrest_rate**(duration*12)))/(((1+intrest_rate)**(duration*12))-1)\n",
    "    return EMI\n",
    "EMI1=calculate_EMI(1260000,10,0.08/12,0)\n",
    "EMI2=calculate_EMI(1260000,8,0.10/12,300000)\n",
    "print(f'The two options are paying 1.{EMI1} 2.{EMI2}')\n",
    "if(EMI1<EMI2):\n",
    "    print(f\"{EMI1} is better option\")\n",
    "else:\n",
    "    print(f\"{EMI2} is better option\")"
   ]
  },
  {
   "cell_type": "markdown",
   "id": "2963d98a",
   "metadata": {},
   "source": [
    "You are planning a vacation,and you need to decide which city you want to visit.You have shortliated the four cities "
   ]
  },
  {
   "cell_type": "code",
   "execution_count": 37,
   "id": "d64fd4a8",
   "metadata": {},
   "outputs": [
    {
     "name": "stdout",
     "output_type": "stream",
     "text": [
      "[420, 400, 465, 530]\n"
     ]
    }
   ],
   "source": [
    "city=['Paris','London','Dubai','Mumbai']\n",
    "Return_Flight=[200,250,370,450]\n",
    "Hotel_per_day=[20,30,15,10]\n",
    "Weekly_Rental_Car=[200,120,80,70]\n",
    "expenses_list=[]\n",
    "def Expenses_caluculator():\n",
    "    i=0\n",
    "    for c in city:\n",
    "        expenses=Return_Flight[i]+Hotel_per_day[i]+Weekly_Rental_Car[i]\n",
    "        expenses_list.append(expenses)\n",
    "        i+=1\n",
    "    return expenses_list\n",
    "res=Expenses_caluculator()\n",
    "print(res)"
   ]
  },
  {
   "cell_type": "code",
   "execution_count": 46,
   "id": "1fd65dfc",
   "metadata": {},
   "outputs": [
    {
     "ename": "TypeError",
     "evalue": "'NoneType' object is not iterable",
     "output_type": "error",
     "traceback": [
      "\u001b[1;31m---------------------------------------------------------------------------\u001b[0m",
      "\u001b[1;31mTypeError\u001b[0m                                 Traceback (most recent call last)",
      "\u001b[1;32m~\\AppData\\Local\\Temp/ipykernel_24972/2152409251.py\u001b[0m in \u001b[0;36m<module>\u001b[1;34m\u001b[0m\n\u001b[0;32m     14\u001b[0m         \u001b[0mj\u001b[0m\u001b[1;33m+=\u001b[0m\u001b[1;36m1\u001b[0m\u001b[1;33m\u001b[0m\u001b[1;33m\u001b[0m\u001b[0m\n\u001b[0;32m     15\u001b[0m \u001b[0mdays\u001b[0m\u001b[1;33m=\u001b[0m\u001b[1;36m7\u001b[0m\u001b[1;33m\u001b[0m\u001b[1;33m\u001b[0m\u001b[0m\n\u001b[1;32m---> 16\u001b[1;33m \u001b[0mcity\u001b[0m\u001b[1;33m=\u001b[0m\u001b[0mdetermine\u001b[0m\u001b[1;33m(\u001b[0m\u001b[1;36m7\u001b[0m\u001b[1;33m)\u001b[0m\u001b[1;33m\u001b[0m\u001b[1;33m\u001b[0m\u001b[0m\n\u001b[0m\u001b[0;32m     17\u001b[0m \u001b[0mprint\u001b[0m\u001b[1;33m(\u001b[0m\u001b[1;34mf' For {days} this {city} is better'\u001b[0m\u001b[1;33m)\u001b[0m\u001b[1;33m\u001b[0m\u001b[1;33m\u001b[0m\u001b[0m\n",
      "\u001b[1;32m~\\AppData\\Local\\Temp/ipykernel_24972/2152409251.py\u001b[0m in \u001b[0;36mdetermine\u001b[1;34m(days)\u001b[0m\n\u001b[0;32m      3\u001b[0m     \u001b[0mi\u001b[0m\u001b[1;33m=\u001b[0m\u001b[1;36m0\u001b[0m\u001b[1;33m\u001b[0m\u001b[1;33m\u001b[0m\u001b[0m\n\u001b[0;32m      4\u001b[0m     \u001b[0mj\u001b[0m\u001b[1;33m=\u001b[0m\u001b[1;36m0\u001b[0m\u001b[1;33m\u001b[0m\u001b[1;33m\u001b[0m\u001b[0m\n\u001b[1;32m----> 5\u001b[1;33m     \u001b[1;32mfor\u001b[0m \u001b[0mc\u001b[0m \u001b[1;32min\u001b[0m \u001b[0mcity\u001b[0m\u001b[1;33m:\u001b[0m\u001b[1;33m\u001b[0m\u001b[1;33m\u001b[0m\u001b[0m\n\u001b[0m\u001b[0;32m      6\u001b[0m         \u001b[0mexpenses\u001b[0m\u001b[1;33m=\u001b[0m\u001b[0mReturn_Flight\u001b[0m\u001b[1;33m[\u001b[0m\u001b[0mi\u001b[0m\u001b[1;33m]\u001b[0m\u001b[1;33m*\u001b[0m\u001b[0mdays\u001b[0m\u001b[1;33m+\u001b[0m\u001b[0mHotel_per_day\u001b[0m\u001b[1;33m[\u001b[0m\u001b[0mi\u001b[0m\u001b[1;33m]\u001b[0m\u001b[1;33m*\u001b[0m\u001b[0mdays\u001b[0m\u001b[1;33m+\u001b[0m\u001b[0mWeekly_Rental_Car\u001b[0m\u001b[1;33m[\u001b[0m\u001b[0mi\u001b[0m\u001b[1;33m]\u001b[0m\u001b[1;33m*\u001b[0m\u001b[0mdays\u001b[0m\u001b[1;33m\u001b[0m\u001b[1;33m\u001b[0m\u001b[0m\n\u001b[0;32m      7\u001b[0m         \u001b[0mexpenses_list2\u001b[0m\u001b[1;33m.\u001b[0m\u001b[0mappend\u001b[0m\u001b[1;33m(\u001b[0m\u001b[0mexpenses\u001b[0m\u001b[1;33m)\u001b[0m\u001b[1;33m\u001b[0m\u001b[1;33m\u001b[0m\u001b[0m\n",
      "\u001b[1;31mTypeError\u001b[0m: 'NoneType' object is not iterable"
     ]
    }
   ],
   "source": [
    "expenses_list2=[]\n",
    "def determine(days):\n",
    "    i=0\n",
    "    j=0\n",
    "    for c in city:\n",
    "        expenses=Return_Flight[i]*days+Hotel_per_day[i]*days+Weekly_Rental_Car[i]*days\n",
    "        expenses_list2.append(expenses)\n",
    "        i+=1\n",
    "    minimum=min(expenses_list2)\n",
    "    for c in city:\n",
    "        if expenses_list2[j]==minimum:\n",
    "            return c \n",
    "            break\n",
    "        j+=1\n",
    "days=7\n",
    "city=determine(7)\n",
    "print(f' For {days} this {city} is better')"
   ]
  },
  {
   "cell_type": "code",
   "execution_count": 47,
   "id": "5aaf21cf",
   "metadata": {},
   "outputs": [
    {
     "ename": "ValueError",
     "evalue": "min() arg is an empty sequence",
     "output_type": "error",
     "traceback": [
      "\u001b[1;31m---------------------------------------------------------------------------\u001b[0m",
      "\u001b[1;31mValueError\u001b[0m                                Traceback (most recent call last)",
      "\u001b[1;32m~\\AppData\\Local\\Temp/ipykernel_24972/3409905240.py\u001b[0m in \u001b[0;36m<module>\u001b[1;34m\u001b[0m\n\u001b[1;32m----> 1\u001b[1;33m \u001b[0mmin\u001b[0m\u001b[1;33m(\u001b[0m\u001b[0mexpenses_list2\u001b[0m\u001b[1;33m)\u001b[0m\u001b[1;33m\u001b[0m\u001b[1;33m\u001b[0m\u001b[0m\n\u001b[0m",
      "\u001b[1;31mValueError\u001b[0m: min() arg is an empty sequence"
     ]
    }
   ],
   "source": [
    "min(expenses_list2)"
   ]
  },
  {
   "cell_type": "code",
   "execution_count": 14,
   "id": "48f862cb",
   "metadata": {},
   "outputs": [
    {
     "name": "stdout",
     "output_type": "stream",
     "text": [
      "Enter the passwordkl\n",
      "Re-enter the passwordlk\n",
      "Password did not match\n"
     ]
    }
   ],
   "source": [
    "def password(paswrd,check_password):\n",
    "    count=0\n",
    "    if(paswrd==check_password):\n",
    "        return 1,0\n",
    "    else:\n",
    "        count+=1\n",
    "        if(count==3):\n",
    "            return -1,0\n",
    "        return 2,0           \n",
    "paswrd=input(\"Enter the password\")\n",
    "check_password=input('Re-enter the password')\n",
    "res,y=password(paswrd,check_password)\n",
    "if res==1 and y==0:\n",
    "    print(\"Password Changed successfully\")\n",
    "elif(res==2 and y==0):\n",
    "    print(\"Password did not match\")\n",
    "else:\n",
    "    print(\"MOre number of attempts\")"
   ]
  },
  {
   "cell_type": "code",
   "execution_count": 9,
   "id": "56e6bab9",
   "metadata": {},
   "outputs": [
    {
     "data": {
      "text/plain": [
       "True"
      ]
     },
     "execution_count": 9,
     "metadata": {},
     "output_type": "execute_result"
    }
   ],
   "source": [
    "s='ktu'\n",
    "y='ktu'\n",
    "bool(s==y)"
   ]
  },
  {
   "cell_type": "code",
   "execution_count": null,
   "id": "15df05fc",
   "metadata": {},
   "outputs": [],
   "source": []
  }
 ],
 "metadata": {
  "kernelspec": {
   "display_name": "Python 3 (ipykernel)",
   "language": "python",
   "name": "python3"
  },
  "language_info": {
   "codemirror_mode": {
    "name": "ipython",
    "version": 3
   },
   "file_extension": ".py",
   "mimetype": "text/x-python",
   "name": "python",
   "nbconvert_exporter": "python",
   "pygments_lexer": "ipython3",
   "version": "3.9.12"
  }
 },
 "nbformat": 4,
 "nbformat_minor": 5
}
